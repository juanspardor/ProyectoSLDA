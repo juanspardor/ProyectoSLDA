{
 "cells": [
  {
   "cell_type": "code",
   "execution_count": 1,
   "metadata": {},
   "outputs": [],
   "source": [
    "import pandas as pd\n",
    "from sklearn.svm import SVC\n",
    "from sklearn.model_selection import train_test_split\n",
    "from sklearn import svm\n",
    "from sklearn.model_selection import GridSearchCV\n",
    "from imblearn.over_sampling import BorderlineSMOTE\n"
   ]
  },
  {
   "cell_type": "code",
   "execution_count": 2,
   "metadata": {},
   "outputs": [
    {
     "name": "stdout",
     "output_type": "stream",
     "text": [
      "        B47       B45       B46       B22       B24       B21       B31  \\\n",
      "0  0.284533  0.715467  2.514527  0.054788  0.192552  0.051358  0.097446   \n",
      "1  0.554977  0.445023  0.801876  0.036778  0.066270  0.014865  0.554977   \n",
      "\n",
      "        B23       B67       B83  ...       B44       B52       B13       B68  \\\n",
      "0  0.076576  1.491033  0.017284  ...  0.513691  3.890125 -0.019776  1.066784   \n",
      "1  0.082643  5.559600  0.000029  ...  0.299580  0.548165 -0.035168  2.474149   \n",
      "\n",
      "        B61       B85       B82      B611  FRACASO  CODIGO_EMPRESA  \n",
      "0  0.114106  0.315473  0.177370  1.255421        0       321000370  \n",
      "1  0.026239  0.000781  0.000052  0.601136        0       321000978  \n",
      "\n",
      "[2 rows x 27 columns]\n",
      "        B47       B45       B46       B22       B24      B21       B31  \\\n",
      "0  0.794926  0.205074  0.257978  0.015889  0.019988  0.00466  0.788738   \n",
      "1  0.931246  0.068754  0.073830  0.026808  0.028787  0.01977  0.789090   \n",
      "\n",
      "        B23        B67       B83  ...      B612       B44       B52       B13  \\\n",
      "0  0.077480  16.626055  0.026738  ...  0.163583  0.195155  1.190259  0.055781   \n",
      "1  0.389914  19.722161  0.040247  ...  0.282370  0.192312  0.254777  0.119959   \n",
      "\n",
      "        B68       B61       B85       B82      B611  CODIGO_EMPRESA  \n",
      "0  3.409565  0.007854  1.682761  0.033899  0.435074       351108924  \n",
      "1  1.355979  0.017943  1.501305  0.051005  0.668726       351109009  \n",
      "\n",
      "[2 rows x 26 columns]\n"
     ]
    }
   ],
   "source": [
    "train=pd.read_csv('C:/Users/Santiago Zubieta/Documents/2023-2/statistical/Proyecto/ProyectoSLDA/Classification/Intento 2/datos/dtrain.csv')\n",
    "test=pd.read_csv('C:/Users/Santiago Zubieta/Documents/2023-2/statistical/Proyecto/ProyectoSLDA/Classification/Intento 2/datos/dtest.csv')\n",
    "print(train.head(2))\n",
    "print(test.head(2))"
   ]
  },
  {
   "cell_type": "code",
   "execution_count": 3,
   "metadata": {},
   "outputs": [],
   "source": [
    "X=train.iloc[:,:-2]\n",
    "y=train['FRACASO']"
   ]
  },
  {
   "cell_type": "code",
   "execution_count": 4,
   "metadata": {},
   "outputs": [
    {
     "data": {
      "text/html": [
       "<div>\n",
       "<style scoped>\n",
       "    .dataframe tbody tr th:only-of-type {\n",
       "        vertical-align: middle;\n",
       "    }\n",
       "\n",
       "    .dataframe tbody tr th {\n",
       "        vertical-align: top;\n",
       "    }\n",
       "\n",
       "    .dataframe thead th {\n",
       "        text-align: right;\n",
       "    }\n",
       "</style>\n",
       "<table border=\"1\" class=\"dataframe\">\n",
       "  <thead>\n",
       "    <tr style=\"text-align: right;\">\n",
       "      <th></th>\n",
       "      <th>B47</th>\n",
       "      <th>B45</th>\n",
       "      <th>B46</th>\n",
       "      <th>B22</th>\n",
       "      <th>B24</th>\n",
       "      <th>B21</th>\n",
       "      <th>B31</th>\n",
       "      <th>B23</th>\n",
       "      <th>B67</th>\n",
       "      <th>B83</th>\n",
       "      <th>...</th>\n",
       "      <th>B610</th>\n",
       "      <th>B612</th>\n",
       "      <th>B44</th>\n",
       "      <th>B52</th>\n",
       "      <th>B13</th>\n",
       "      <th>B68</th>\n",
       "      <th>B61</th>\n",
       "      <th>B85</th>\n",
       "      <th>B82</th>\n",
       "      <th>B611</th>\n",
       "    </tr>\n",
       "  </thead>\n",
       "  <tbody>\n",
       "    <tr>\n",
       "      <th>0</th>\n",
       "      <td>0.794926</td>\n",
       "      <td>0.205074</td>\n",
       "      <td>0.257978</td>\n",
       "      <td>0.015889</td>\n",
       "      <td>0.019988</td>\n",
       "      <td>0.004660</td>\n",
       "      <td>0.788738</td>\n",
       "      <td>0.077480</td>\n",
       "      <td>16.626055</td>\n",
       "      <td>0.026738</td>\n",
       "      <td>...</td>\n",
       "      <td>2.193463</td>\n",
       "      <td>0.163583</td>\n",
       "      <td>0.195155</td>\n",
       "      <td>1.190259</td>\n",
       "      <td>0.055781</td>\n",
       "      <td>3.409565</td>\n",
       "      <td>0.007854</td>\n",
       "      <td>1.682761</td>\n",
       "      <td>0.033899</td>\n",
       "      <td>0.435074</td>\n",
       "    </tr>\n",
       "    <tr>\n",
       "      <th>1</th>\n",
       "      <td>0.931246</td>\n",
       "      <td>0.068754</td>\n",
       "      <td>0.073830</td>\n",
       "      <td>0.026808</td>\n",
       "      <td>0.028787</td>\n",
       "      <td>0.019770</td>\n",
       "      <td>0.789090</td>\n",
       "      <td>0.389914</td>\n",
       "      <td>19.722161</td>\n",
       "      <td>0.040247</td>\n",
       "      <td>...</td>\n",
       "      <td>3.412621</td>\n",
       "      <td>0.282370</td>\n",
       "      <td>0.192312</td>\n",
       "      <td>0.254777</td>\n",
       "      <td>0.119959</td>\n",
       "      <td>1.355979</td>\n",
       "      <td>0.017943</td>\n",
       "      <td>1.501305</td>\n",
       "      <td>0.051005</td>\n",
       "      <td>0.668726</td>\n",
       "    </tr>\n",
       "    <tr>\n",
       "      <th>2</th>\n",
       "      <td>0.538253</td>\n",
       "      <td>0.461747</td>\n",
       "      <td>0.857861</td>\n",
       "      <td>0.066402</td>\n",
       "      <td>0.123366</td>\n",
       "      <td>0.035654</td>\n",
       "      <td>0.389314</td>\n",
       "      <td>0.143807</td>\n",
       "      <td>4.033451</td>\n",
       "      <td>0.040084</td>\n",
       "      <td>...</td>\n",
       "      <td>2.945746</td>\n",
       "      <td>0.245339</td>\n",
       "      <td>0.446667</td>\n",
       "      <td>1.734793</td>\n",
       "      <td>-0.014868</td>\n",
       "      <td>1.862432</td>\n",
       "      <td>0.057486</td>\n",
       "      <td>0.603646</td>\n",
       "      <td>0.102960</td>\n",
       "      <td>1.573920</td>\n",
       "    </tr>\n",
       "    <tr>\n",
       "      <th>3</th>\n",
       "      <td>0.533967</td>\n",
       "      <td>0.466033</td>\n",
       "      <td>0.872775</td>\n",
       "      <td>0.047704</td>\n",
       "      <td>0.089339</td>\n",
       "      <td>0.047037</td>\n",
       "      <td>0.357815</td>\n",
       "      <td>0.102362</td>\n",
       "      <td>2.176174</td>\n",
       "      <td>0.052838</td>\n",
       "      <td>...</td>\n",
       "      <td>0.595107</td>\n",
       "      <td>0.562082</td>\n",
       "      <td>-0.103634</td>\n",
       "      <td>0.646434</td>\n",
       "      <td>-0.024643</td>\n",
       "      <td>1.014169</td>\n",
       "      <td>0.012595</td>\n",
       "      <td>1.107632</td>\n",
       "      <td>0.147670</td>\n",
       "      <td>-0.242636</td>\n",
       "    </tr>\n",
       "    <tr>\n",
       "      <th>4</th>\n",
       "      <td>0.507644</td>\n",
       "      <td>0.492356</td>\n",
       "      <td>0.969884</td>\n",
       "      <td>0.126616</td>\n",
       "      <td>0.249419</td>\n",
       "      <td>0.066137</td>\n",
       "      <td>0.485737</td>\n",
       "      <td>0.257163</td>\n",
       "      <td>3.888342</td>\n",
       "      <td>0.013571</td>\n",
       "      <td>...</td>\n",
       "      <td>1.207386</td>\n",
       "      <td>0.487919</td>\n",
       "      <td>0.394266</td>\n",
       "      <td>0.980633</td>\n",
       "      <td>0.001888</td>\n",
       "      <td>1.914449</td>\n",
       "      <td>0.033729</td>\n",
       "      <td>0.107180</td>\n",
       "      <td>0.027938</td>\n",
       "      <td>0.540943</td>\n",
       "    </tr>\n",
       "  </tbody>\n",
       "</table>\n",
       "<p>5 rows × 25 columns</p>\n",
       "</div>"
      ],
      "text/plain": [
       "        B47       B45       B46       B22       B24       B21       B31  \\\n",
       "0  0.794926  0.205074  0.257978  0.015889  0.019988  0.004660  0.788738   \n",
       "1  0.931246  0.068754  0.073830  0.026808  0.028787  0.019770  0.789090   \n",
       "2  0.538253  0.461747  0.857861  0.066402  0.123366  0.035654  0.389314   \n",
       "3  0.533967  0.466033  0.872775  0.047704  0.089339  0.047037  0.357815   \n",
       "4  0.507644  0.492356  0.969884  0.126616  0.249419  0.066137  0.485737   \n",
       "\n",
       "        B23        B67       B83  ...      B610      B612       B44       B52  \\\n",
       "0  0.077480  16.626055  0.026738  ...  2.193463  0.163583  0.195155  1.190259   \n",
       "1  0.389914  19.722161  0.040247  ...  3.412621  0.282370  0.192312  0.254777   \n",
       "2  0.143807   4.033451  0.040084  ...  2.945746  0.245339  0.446667  1.734793   \n",
       "3  0.102362   2.176174  0.052838  ...  0.595107  0.562082 -0.103634  0.646434   \n",
       "4  0.257163   3.888342  0.013571  ...  1.207386  0.487919  0.394266  0.980633   \n",
       "\n",
       "        B13       B68       B61       B85       B82      B611  \n",
       "0  0.055781  3.409565  0.007854  1.682761  0.033899  0.435074  \n",
       "1  0.119959  1.355979  0.017943  1.501305  0.051005  0.668726  \n",
       "2 -0.014868  1.862432  0.057486  0.603646  0.102960  1.573920  \n",
       "3 -0.024643  1.014169  0.012595  1.107632  0.147670 -0.242636  \n",
       "4  0.001888  1.914449  0.033729  0.107180  0.027938  0.540943  \n",
       "\n",
       "[5 rows x 25 columns]"
      ]
     },
     "execution_count": 4,
     "metadata": {},
     "output_type": "execute_result"
    }
   ],
   "source": [
    "test=test.iloc[:,:-1]\n",
    "test.head()"
   ]
  },
  {
   "cell_type": "code",
   "execution_count": 5,
   "metadata": {},
   "outputs": [
    {
     "data": {
      "text/plain": [
       "(1738, 25)"
      ]
     },
     "execution_count": 5,
     "metadata": {},
     "output_type": "execute_result"
    }
   ],
   "source": [
    "X.shape"
   ]
  },
  {
   "cell_type": "code",
   "execution_count": 6,
   "metadata": {},
   "outputs": [],
   "source": [
    "oversampler=BorderlineSMOTE()\n",
    "X_res,y_res=oversampler.fit_resample(X,y)"
   ]
  },
  {
   "cell_type": "code",
   "execution_count": 7,
   "metadata": {},
   "outputs": [
    {
     "name": "stdout",
     "output_type": "stream",
     "text": [
      "(3336, 25) 0    1668\n",
      "1    1668\n",
      "Name: FRACASO, dtype: int64\n"
     ]
    }
   ],
   "source": [
    "print(X_res.shape,y_res.value_counts())"
   ]
  },
  {
   "cell_type": "code",
   "execution_count": 8,
   "metadata": {},
   "outputs": [],
   "source": [
    "# Create an SVM classifier\n",
    "svm_classifier = svm.SVC(kernel='linear',probability=True)\n",
    "\n",
    "# Define the hyperparameter gri\n",
    "param_grid = {\n",
    "    'C': [150]\n",
    "}\n",
    "\n",
    "# Perform grid search with cross-validation\n",
    "grid_search = GridSearchCV(svm_classifier, param_grid, cv=3)\n",
    "grid_search.fit(X_res, y_res)\n",
    "\n",
    "# Get the best hyperparameters\n",
    "best_params = grid_search.best_params_"
   ]
  },
  {
   "cell_type": "code",
   "execution_count": 9,
   "metadata": {},
   "outputs": [
    {
     "data": {
      "text/plain": [
       "{'C': 150}"
      ]
     },
     "execution_count": 9,
     "metadata": {},
     "output_type": "execute_result"
    }
   ],
   "source": [
    "best_params"
   ]
  },
  {
   "cell_type": "code",
   "execution_count": 12,
   "metadata": {},
   "outputs": [],
   "source": [
    "probabilities=grid_search.predict_proba(test)[:,1]\n",
    "# Convert the NumPy array to a pandas DataFrame\n",
    "probabilities_df = pd.DataFrame(probabilities)\n",
    "probabilities_df.index = probabilities_df.index + 1\n",
    "# Save the DataFrame to a CSV file\n",
    "probabilities_df.to_csv('intento.csv', index=True)"
   ]
  },
  {
   "cell_type": "code",
   "execution_count": null,
   "metadata": {},
   "outputs": [],
   "source": [
    "svm2=svm.SVC(kernel='linear',C=150,probability=True)\n",
    "svm2.fit(X_res,y_res)"
   ]
  },
  {
   "cell_type": "code",
   "execution_count": null,
   "metadata": {},
   "outputs": [
    {
     "ename": "AttributeError",
     "evalue": "predict_proba is not available when  probability=False",
     "output_type": "error",
     "traceback": [
      "\u001b[1;31m---------------------------------------------------------------------------\u001b[0m",
      "\u001b[1;31mAttributeError\u001b[0m                            Traceback (most recent call last)",
      "\u001b[1;32mc:\\Users\\Santiago Zubieta\\Documents\\2023-2\\statistical\\Proyecto\\ProyectoSLDA\\Classification\\Intento 2\\Modelos\\SVM.ipynb Cell 10\u001b[0m line \u001b[0;36m1\n\u001b[1;32m----> <a href='vscode-notebook-cell:/c%3A/Users/Santiago%20Zubieta/Documents/2023-2/statistical/Proyecto/ProyectoSLDA/Classification/Intento%202/Modelos/SVM.ipynb#X11sZmlsZQ%3D%3D?line=0'>1</a>\u001b[0m probabilities\u001b[39m=\u001b[39mgrid_search\u001b[39m.\u001b[39;49mpredict_proba(test)[:,\u001b[39m1\u001b[39m]\n\u001b[0;32m      <a href='vscode-notebook-cell:/c%3A/Users/Santiago%20Zubieta/Documents/2023-2/statistical/Proyecto/ProyectoSLDA/Classification/Intento%202/Modelos/SVM.ipynb#X11sZmlsZQ%3D%3D?line=1'>2</a>\u001b[0m \u001b[39m# Convert the NumPy array to a pandas DataFrame\u001b[39;00m\n\u001b[0;32m      <a href='vscode-notebook-cell:/c%3A/Users/Santiago%20Zubieta/Documents/2023-2/statistical/Proyecto/ProyectoSLDA/Classification/Intento%202/Modelos/SVM.ipynb#X11sZmlsZQ%3D%3D?line=2'>3</a>\u001b[0m probabilities_df \u001b[39m=\u001b[39m pd\u001b[39m.\u001b[39mDataFrame(probabilities)\n",
      "File \u001b[1;32mc:\\Users\\Santiago Zubieta\\AppData\\Local\\Programs\\Python\\Python39\\lib\\site-packages\\sklearn\\utils\\_available_if.py:32\u001b[0m, in \u001b[0;36m_AvailableIfDescriptor.__get__\u001b[1;34m(self, obj, owner)\u001b[0m\n\u001b[0;32m     26\u001b[0m attr_err \u001b[39m=\u001b[39m \u001b[39mAttributeError\u001b[39;00m(\n\u001b[0;32m     27\u001b[0m     \u001b[39mf\u001b[39m\u001b[39m\"\u001b[39m\u001b[39mThis \u001b[39m\u001b[39m{\u001b[39;00m\u001b[39mrepr\u001b[39m(owner\u001b[39m.\u001b[39m\u001b[39m__name__\u001b[39m)\u001b[39m}\u001b[39;00m\u001b[39m has no attribute \u001b[39m\u001b[39m{\u001b[39;00m\u001b[39mrepr\u001b[39m(\u001b[39mself\u001b[39m\u001b[39m.\u001b[39mattribute_name)\u001b[39m}\u001b[39;00m\u001b[39m\"\u001b[39m\n\u001b[0;32m     28\u001b[0m )\n\u001b[0;32m     29\u001b[0m \u001b[39mif\u001b[39;00m obj \u001b[39mis\u001b[39;00m \u001b[39mnot\u001b[39;00m \u001b[39mNone\u001b[39;00m:\n\u001b[0;32m     30\u001b[0m     \u001b[39m# delegate only on instances, not the classes.\u001b[39;00m\n\u001b[0;32m     31\u001b[0m     \u001b[39m# this is to allow access to the docstrings.\u001b[39;00m\n\u001b[1;32m---> 32\u001b[0m     \u001b[39mif\u001b[39;00m \u001b[39mnot\u001b[39;00m \u001b[39mself\u001b[39;49m\u001b[39m.\u001b[39;49mcheck(obj):\n\u001b[0;32m     33\u001b[0m         \u001b[39mraise\u001b[39;00m attr_err\n\u001b[0;32m     34\u001b[0m     out \u001b[39m=\u001b[39m MethodType(\u001b[39mself\u001b[39m\u001b[39m.\u001b[39mfn, obj)\n",
      "File \u001b[1;32mc:\\Users\\Santiago Zubieta\\AppData\\Local\\Programs\\Python\\Python39\\lib\\site-packages\\sklearn\\model_selection\\_search.py:362\u001b[0m, in \u001b[0;36m_estimator_has.<locals>.check\u001b[1;34m(self)\u001b[0m\n\u001b[0;32m    359\u001b[0m _check_refit(\u001b[39mself\u001b[39m, attr)\n\u001b[0;32m    360\u001b[0m \u001b[39mif\u001b[39;00m \u001b[39mhasattr\u001b[39m(\u001b[39mself\u001b[39m, \u001b[39m\"\u001b[39m\u001b[39mbest_estimator_\u001b[39m\u001b[39m\"\u001b[39m):\n\u001b[0;32m    361\u001b[0m     \u001b[39m# raise an AttributeError if `attr` does not exist\u001b[39;00m\n\u001b[1;32m--> 362\u001b[0m     \u001b[39mgetattr\u001b[39;49m(\u001b[39mself\u001b[39;49m\u001b[39m.\u001b[39;49mbest_estimator_, attr)\n\u001b[0;32m    363\u001b[0m     \u001b[39mreturn\u001b[39;00m \u001b[39mTrue\u001b[39;00m\n\u001b[0;32m    364\u001b[0m \u001b[39m# raise an AttributeError if `attr` does not exist\u001b[39;00m\n",
      "File \u001b[1;32mc:\\Users\\Santiago Zubieta\\AppData\\Local\\Programs\\Python\\Python39\\lib\\site-packages\\sklearn\\utils\\_available_if.py:32\u001b[0m, in \u001b[0;36m_AvailableIfDescriptor.__get__\u001b[1;34m(self, obj, owner)\u001b[0m\n\u001b[0;32m     26\u001b[0m attr_err \u001b[39m=\u001b[39m \u001b[39mAttributeError\u001b[39;00m(\n\u001b[0;32m     27\u001b[0m     \u001b[39mf\u001b[39m\u001b[39m\"\u001b[39m\u001b[39mThis \u001b[39m\u001b[39m{\u001b[39;00m\u001b[39mrepr\u001b[39m(owner\u001b[39m.\u001b[39m\u001b[39m__name__\u001b[39m)\u001b[39m}\u001b[39;00m\u001b[39m has no attribute \u001b[39m\u001b[39m{\u001b[39;00m\u001b[39mrepr\u001b[39m(\u001b[39mself\u001b[39m\u001b[39m.\u001b[39mattribute_name)\u001b[39m}\u001b[39;00m\u001b[39m\"\u001b[39m\n\u001b[0;32m     28\u001b[0m )\n\u001b[0;32m     29\u001b[0m \u001b[39mif\u001b[39;00m obj \u001b[39mis\u001b[39;00m \u001b[39mnot\u001b[39;00m \u001b[39mNone\u001b[39;00m:\n\u001b[0;32m     30\u001b[0m     \u001b[39m# delegate only on instances, not the classes.\u001b[39;00m\n\u001b[0;32m     31\u001b[0m     \u001b[39m# this is to allow access to the docstrings.\u001b[39;00m\n\u001b[1;32m---> 32\u001b[0m     \u001b[39mif\u001b[39;00m \u001b[39mnot\u001b[39;00m \u001b[39mself\u001b[39;49m\u001b[39m.\u001b[39;49mcheck(obj):\n\u001b[0;32m     33\u001b[0m         \u001b[39mraise\u001b[39;00m attr_err\n\u001b[0;32m     34\u001b[0m     out \u001b[39m=\u001b[39m MethodType(\u001b[39mself\u001b[39m\u001b[39m.\u001b[39mfn, obj)\n",
      "File \u001b[1;32mc:\\Users\\Santiago Zubieta\\AppData\\Local\\Programs\\Python\\Python39\\lib\\site-packages\\sklearn\\svm\\_base.py:829\u001b[0m, in \u001b[0;36mBaseSVC._check_proba\u001b[1;34m(self)\u001b[0m\n\u001b[0;32m    827\u001b[0m \u001b[39mdef\u001b[39;00m \u001b[39m_check_proba\u001b[39m(\u001b[39mself\u001b[39m):\n\u001b[0;32m    828\u001b[0m     \u001b[39mif\u001b[39;00m \u001b[39mnot\u001b[39;00m \u001b[39mself\u001b[39m\u001b[39m.\u001b[39mprobability:\n\u001b[1;32m--> 829\u001b[0m         \u001b[39mraise\u001b[39;00m \u001b[39mAttributeError\u001b[39;00m(\n\u001b[0;32m    830\u001b[0m             \u001b[39m\"\u001b[39m\u001b[39mpredict_proba is not available when  probability=False\u001b[39m\u001b[39m\"\u001b[39m\n\u001b[0;32m    831\u001b[0m         )\n\u001b[0;32m    832\u001b[0m     \u001b[39mif\u001b[39;00m \u001b[39mself\u001b[39m\u001b[39m.\u001b[39m_impl \u001b[39mnot\u001b[39;00m \u001b[39min\u001b[39;00m (\u001b[39m\"\u001b[39m\u001b[39mc_svc\u001b[39m\u001b[39m\"\u001b[39m, \u001b[39m\"\u001b[39m\u001b[39mnu_svc\u001b[39m\u001b[39m\"\u001b[39m):\n\u001b[0;32m    833\u001b[0m         \u001b[39mraise\u001b[39;00m \u001b[39mAttributeError\u001b[39;00m(\u001b[39m\"\u001b[39m\u001b[39mpredict_proba only implemented for SVC and NuSVC\u001b[39m\u001b[39m\"\u001b[39m)\n",
      "\u001b[1;31mAttributeError\u001b[0m: predict_proba is not available when  probability=False"
     ]
    }
   ],
   "source": [
    "probabilities=svm2.predict_proba(test)[:,1]\n",
    "# Convert the NumPy array to a pandas DataFrame\n",
    "probabilities_df = pd.DataFrame(probabilities)\n",
    "probabilities_df.i ndex = probabilities_df.index + 1\n",
    "# Save the DataFrame to a CSV file\n",
    "probabilities_df.to_csv('intento.csv', index=True)"
   ]
  },
  {
   "cell_type": "markdown",
   "metadata": {},
   "source": []
  }
 ],
 "metadata": {
  "kernelspec": {
   "display_name": "Python 3",
   "language": "python",
   "name": "python3"
  },
  "language_info": {
   "codemirror_mode": {
    "name": "ipython",
    "version": 3
   },
   "file_extension": ".py",
   "mimetype": "text/x-python",
   "name": "python",
   "nbconvert_exporter": "python",
   "pygments_lexer": "ipython3",
   "version": "3.9.7"
  }
 },
 "nbformat": 4,
 "nbformat_minor": 2
}
