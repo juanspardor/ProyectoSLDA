{
 "cells": [
  {
   "cell_type": "code",
   "execution_count": null,
   "metadata": {},
   "outputs": [],
   "source": [
    "import pandas as pd\n",
    "\n",
    "import matplotlib.pyplot as plt\n",
    "import seaborn as sns"
   ]
  },
  {
   "cell_type": "code",
   "execution_count": null,
   "metadata": {},
   "outputs": [],
   "source": [
    "# Lectura de datos en formato CSV\n",
    "# Los datos son almacenados en memoria usando una estructura de datos de Pandas conocida como dataframe\n",
    "df_tracks = pd.read_excel('./Classification/TrainClass.xlsx', index_col = 0)"
   ]
  },
  {
   "cell_type": "code",
   "execution_count": null,
   "metadata": {},
   "outputs": [],
   "source": [
    "df_tracks.head(5)"
   ]
  },
  {
   "cell_type": "code",
   "execution_count": null,
   "metadata": {},
   "outputs": [],
   "source": [
    "df_tracks.shape"
   ]
  },
  {
   "cell_type": "code",
   "execution_count": null,
   "metadata": {},
   "outputs": [],
   "source": [
    "df_tracks.dtypes"
   ]
  },
  {
   "cell_type": "code",
   "execution_count": null,
   "metadata": {},
   "outputs": [],
   "source": [
    "df_tracks.describe()"
   ]
  },
  {
   "cell_type": "code",
   "execution_count": null,
   "metadata": {},
   "outputs": [],
   "source": [
    "df_tracks.columns"
   ]
  },
  {
   "cell_type": "code",
   "execution_count": null,
   "metadata": {},
   "outputs": [],
   "source": [
    "(df_tracks.isnull().sum() / df_tracks.shape[0]).sort_values(ascending = False)"
   ]
  },
  {
   "cell_type": "code",
   "execution_count": null,
   "metadata": {},
   "outputs": [],
   "source": [
    "fracaso_counts = df_tracks['FRACASO'].value_counts()\n",
    "plt.figure(figsize=(6, 6))\n",
    "plt.pie(fracaso_counts, labels=fracaso_counts.index, autopct=lambda p: f'{p:.1f}%\\n({int(p * sum(fracaso_counts) / 100)})', startangle=140)\n",
    "# Adding annotations for counts\n",
    "plt.gca().set_aspect('equal')  # Ensure the pie is drawn as a circle\n",
    "plt.title('FRACASO Distribution')\n",
    "plt.legend()\n",
    "plt.show()\n",
    "\n",
    "# Displaying counts\n",
    "print(\"Counts:\")\n",
    "print(fracaso_counts)\n"
   ]
  },
  {
   "cell_type": "code",
   "execution_count": null,
   "metadata": {},
   "outputs": [],
   "source": [
    "fracaso_counts"
   ]
  },
  {
   "cell_type": "code",
   "execution_count": null,
   "metadata": {},
   "outputs": [],
   "source": [
    "sns.pairplot(df_tracks)\n",
    "plt.show()"
   ]
  },
  {
   "cell_type": "code",
   "execution_count": null,
   "metadata": {},
   "outputs": [],
   "source": [
    "len(df_tracks.columns)"
   ]
  },
  {
   "cell_type": "code",
   "execution_count": null,
   "metadata": {},
   "outputs": [],
   "source": [
    "sns.heatmap(df_tracks, annot=True, cmap='coolwarm', fmt='.2f')\n",
    "plt.title('Matrix Heatmap')\n",
    "plt.xlabel('Variables')\n",
    "plt.ylabel('Variables')\n",
    "plt.show()"
   ]
  },
  {
   "cell_type": "code",
   "execution_count": null,
   "metadata": {},
   "outputs": [],
   "source": [
    "numerical_columns = df_tracks.select_dtypes(include='number').columns.tolist()\n",
    "\n",
    "# Visualizing numerical columns against FRACASO using scatterplots\n",
    "for column in numerical_columns:\n",
    "    if column != 'FRACASO':\n",
    "        plt.figure()\n",
    "        sns.scatterplot(data=df_tracks, x=column, y='FRACASO')\n",
    "        plt.title(f'{column} vs FRACASO')\n",
    "        plt.xlabel(column)\n",
    "        plt.ylabel('FRACASO')\n",
    "        plt.show()"
   ]
  },
  {
   "cell_type": "code",
   "execution_count": null,
   "metadata": {},
   "outputs": [],
   "source": [
    "from sklearn.decomposition import PCA"
   ]
  },
  {
   "cell_type": "code",
   "execution_count": null,
   "metadata": {},
   "outputs": [],
   "source": [
    "l"
   ]
  },
  {
   "cell_type": "code",
   "execution_count": null,
   "metadata": {},
   "outputs": [],
   "source": [
    "df_para_pc = df_tracks\n",
    "p = PCA(n_components = 0.9998)\n",
    "pc = p.fit_transform(df_para_pc)\n",
    "df_f= pd.DataFrame(data = pc, columns = [\"PC\" + str(i+1) for i in range(len(p.components_))])\n",
    "\n",
    "l = p.components_\n",
    "num_pc = p.n_features_\n",
    "lista_pc = [\"PC\"+str(i) for i in list(range(1, num_pc+1))]\n",
    "l_df = pd.DataFrame.from_dict(dict(zip(lista_pc, l)))\n",
    "l_df['variable'] = df_para_pc.columns.values\n",
    "l_df = l_df.set_index('variable')\n",
    "\n",
    "sns.set(rc={\"figure.figsize\":(15, 15)})\n",
    "ax = sns.heatmap(l_df, annot=True, cmap='Spectral')\n",
    "plt.title(\"Valores propios\")\n",
    "plt.xlabel(\"Componente Principal\")\n",
    "plt.ylabel(\"Variable\")\n",
    "plt.show()"
   ]
  }
 ],
 "metadata": {
  "kernelspec": {
   "display_name": "Python 3",
   "language": "python",
   "name": "python3"
  },
  "language_info": {
   "codemirror_mode": {
    "name": "ipython",
    "version": 3
   },
   "file_extension": ".py",
   "mimetype": "text/x-python",
   "name": "python",
   "nbconvert_exporter": "python",
   "pygments_lexer": "ipython3",
   "version": "3.11.4"
  }
 },
 "nbformat": 4,
 "nbformat_minor": 2
}
