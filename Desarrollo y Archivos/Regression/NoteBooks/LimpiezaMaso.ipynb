{
  "nbformat": 4,
  "nbformat_minor": 0,
  "metadata": {
    "colab": {
      "provenance": []
    },
    "kernelspec": {
      "name": "python3",
      "display_name": "Python 3"
    },
    "language_info": {
      "name": "python"
    }
  },
  "cells": [
    {
      "cell_type": "code",
      "execution_count": 20,
      "metadata": {
        "id": "KLVC0z9dyOUp"
      },
      "outputs": [],
      "source": [
        "from sklearn.neighbors import LocalOutlierFactor\n",
        "import numpy as np\n",
        "import pandas as pd"
      ]
    },
    {
      "cell_type": "code",
      "source": [
        "datosFS = pd.read_csv('trainFS.csv', sep = ',')\n"
      ],
      "metadata": {
        "id": "rjZEjj8Z0Apn"
      },
      "execution_count": 21,
      "outputs": []
    },
    {
      "cell_type": "code",
      "source": [
        "datosFS.head()"
      ],
      "metadata": {
        "colab": {
          "base_uri": "https://localhost:8080/",
          "height": 256
        },
        "id": "7voVvQtd0nc_",
        "outputId": "8508bb2b-9ad8-497f-85d3-5fe33d4a61d3"
      },
      "execution_count": 22,
      "outputs": [
        {
          "output_type": "execute_result",
          "data": {
            "text/plain": [
              "     V1        V2        V6        V9        V12         V15        V21  \\\n",
              "0  2013  44.81144  10.94148 -10.47324  -11.21128  1676.12521  544.63214   \n",
              "1  1998  41.99180  16.54115  33.60440   44.21327   968.15417  468.80717   \n",
              "2  1998  42.19196  24.99746   3.45778  233.16766  1190.67124  322.22020   \n",
              "3  1998  39.28634   9.08333  65.62463   79.90772   989.23780  378.40232   \n",
              "4  1998  40.36025  13.71369  21.22366   72.23955  1200.94135  371.45147   \n",
              "\n",
              "         V25       V26        V30  ...       V64        V68        V69  \\\n",
              "0  181.18914  44.03539   19.27062  ...   5.95107  -70.83687   53.85723   \n",
              "1  157.67432   5.79099  297.48761  ... -43.89538   -0.36724  209.84025   \n",
              "2  399.16258   4.67642  -18.01125  ...  -4.25146   10.36621   -8.70765   \n",
              "3  278.69034  66.04147  785.40189  ... -98.76331  113.72945  159.63428   \n",
              "4  157.14072  48.27389  -10.87756  ...  47.36679    2.58945   87.65853   \n",
              "\n",
              "        V70        V73        V74       V75        V79       V86        V87  \n",
              "0 -62.46520    6.77515   22.11467  49.08550   96.51177  -0.28694  155.76251  \n",
              "1  64.05416  245.30922    7.23201  91.45710  -32.11552 -14.81111  151.66273  \n",
              "2 -91.35329 -205.50843   22.30799 -25.50099 -215.11485  -9.65067  -83.83055  \n",
              "3  11.31733  343.77174  267.23658 -45.50255 -250.18408   3.44682  121.69156  \n",
              "4  64.48695  302.88143   42.41827  42.43876   19.93983   8.08807  135.08089  \n",
              "\n",
              "[5 rows x 37 columns]"
            ],
            "text/html": [
              "\n",
              "  <div id=\"df-a715ddda-2b4d-442c-baf8-15a151605b81\" class=\"colab-df-container\">\n",
              "    <div>\n",
              "<style scoped>\n",
              "    .dataframe tbody tr th:only-of-type {\n",
              "        vertical-align: middle;\n",
              "    }\n",
              "\n",
              "    .dataframe tbody tr th {\n",
              "        vertical-align: top;\n",
              "    }\n",
              "\n",
              "    .dataframe thead th {\n",
              "        text-align: right;\n",
              "    }\n",
              "</style>\n",
              "<table border=\"1\" class=\"dataframe\">\n",
              "  <thead>\n",
              "    <tr style=\"text-align: right;\">\n",
              "      <th></th>\n",
              "      <th>V1</th>\n",
              "      <th>V2</th>\n",
              "      <th>V6</th>\n",
              "      <th>V9</th>\n",
              "      <th>V12</th>\n",
              "      <th>V15</th>\n",
              "      <th>V21</th>\n",
              "      <th>V25</th>\n",
              "      <th>V26</th>\n",
              "      <th>V30</th>\n",
              "      <th>...</th>\n",
              "      <th>V64</th>\n",
              "      <th>V68</th>\n",
              "      <th>V69</th>\n",
              "      <th>V70</th>\n",
              "      <th>V73</th>\n",
              "      <th>V74</th>\n",
              "      <th>V75</th>\n",
              "      <th>V79</th>\n",
              "      <th>V86</th>\n",
              "      <th>V87</th>\n",
              "    </tr>\n",
              "  </thead>\n",
              "  <tbody>\n",
              "    <tr>\n",
              "      <th>0</th>\n",
              "      <td>2013</td>\n",
              "      <td>44.81144</td>\n",
              "      <td>10.94148</td>\n",
              "      <td>-10.47324</td>\n",
              "      <td>-11.21128</td>\n",
              "      <td>1676.12521</td>\n",
              "      <td>544.63214</td>\n",
              "      <td>181.18914</td>\n",
              "      <td>44.03539</td>\n",
              "      <td>19.27062</td>\n",
              "      <td>...</td>\n",
              "      <td>5.95107</td>\n",
              "      <td>-70.83687</td>\n",
              "      <td>53.85723</td>\n",
              "      <td>-62.46520</td>\n",
              "      <td>6.77515</td>\n",
              "      <td>22.11467</td>\n",
              "      <td>49.08550</td>\n",
              "      <td>96.51177</td>\n",
              "      <td>-0.28694</td>\n",
              "      <td>155.76251</td>\n",
              "    </tr>\n",
              "    <tr>\n",
              "      <th>1</th>\n",
              "      <td>1998</td>\n",
              "      <td>41.99180</td>\n",
              "      <td>16.54115</td>\n",
              "      <td>33.60440</td>\n",
              "      <td>44.21327</td>\n",
              "      <td>968.15417</td>\n",
              "      <td>468.80717</td>\n",
              "      <td>157.67432</td>\n",
              "      <td>5.79099</td>\n",
              "      <td>297.48761</td>\n",
              "      <td>...</td>\n",
              "      <td>-43.89538</td>\n",
              "      <td>-0.36724</td>\n",
              "      <td>209.84025</td>\n",
              "      <td>64.05416</td>\n",
              "      <td>245.30922</td>\n",
              "      <td>7.23201</td>\n",
              "      <td>91.45710</td>\n",
              "      <td>-32.11552</td>\n",
              "      <td>-14.81111</td>\n",
              "      <td>151.66273</td>\n",
              "    </tr>\n",
              "    <tr>\n",
              "      <th>2</th>\n",
              "      <td>1998</td>\n",
              "      <td>42.19196</td>\n",
              "      <td>24.99746</td>\n",
              "      <td>3.45778</td>\n",
              "      <td>233.16766</td>\n",
              "      <td>1190.67124</td>\n",
              "      <td>322.22020</td>\n",
              "      <td>399.16258</td>\n",
              "      <td>4.67642</td>\n",
              "      <td>-18.01125</td>\n",
              "      <td>...</td>\n",
              "      <td>-4.25146</td>\n",
              "      <td>10.36621</td>\n",
              "      <td>-8.70765</td>\n",
              "      <td>-91.35329</td>\n",
              "      <td>-205.50843</td>\n",
              "      <td>22.30799</td>\n",
              "      <td>-25.50099</td>\n",
              "      <td>-215.11485</td>\n",
              "      <td>-9.65067</td>\n",
              "      <td>-83.83055</td>\n",
              "    </tr>\n",
              "    <tr>\n",
              "      <th>3</th>\n",
              "      <td>1998</td>\n",
              "      <td>39.28634</td>\n",
              "      <td>9.08333</td>\n",
              "      <td>65.62463</td>\n",
              "      <td>79.90772</td>\n",
              "      <td>989.23780</td>\n",
              "      <td>378.40232</td>\n",
              "      <td>278.69034</td>\n",
              "      <td>66.04147</td>\n",
              "      <td>785.40189</td>\n",
              "      <td>...</td>\n",
              "      <td>-98.76331</td>\n",
              "      <td>113.72945</td>\n",
              "      <td>159.63428</td>\n",
              "      <td>11.31733</td>\n",
              "      <td>343.77174</td>\n",
              "      <td>267.23658</td>\n",
              "      <td>-45.50255</td>\n",
              "      <td>-250.18408</td>\n",
              "      <td>3.44682</td>\n",
              "      <td>121.69156</td>\n",
              "    </tr>\n",
              "    <tr>\n",
              "      <th>4</th>\n",
              "      <td>1998</td>\n",
              "      <td>40.36025</td>\n",
              "      <td>13.71369</td>\n",
              "      <td>21.22366</td>\n",
              "      <td>72.23955</td>\n",
              "      <td>1200.94135</td>\n",
              "      <td>371.45147</td>\n",
              "      <td>157.14072</td>\n",
              "      <td>48.27389</td>\n",
              "      <td>-10.87756</td>\n",
              "      <td>...</td>\n",
              "      <td>47.36679</td>\n",
              "      <td>2.58945</td>\n",
              "      <td>87.65853</td>\n",
              "      <td>64.48695</td>\n",
              "      <td>302.88143</td>\n",
              "      <td>42.41827</td>\n",
              "      <td>42.43876</td>\n",
              "      <td>19.93983</td>\n",
              "      <td>8.08807</td>\n",
              "      <td>135.08089</td>\n",
              "    </tr>\n",
              "  </tbody>\n",
              "</table>\n",
              "<p>5 rows × 37 columns</p>\n",
              "</div>\n",
              "    <div class=\"colab-df-buttons\">\n",
              "\n",
              "  <div class=\"colab-df-container\">\n",
              "    <button class=\"colab-df-convert\" onclick=\"convertToInteractive('df-a715ddda-2b4d-442c-baf8-15a151605b81')\"\n",
              "            title=\"Convert this dataframe to an interactive table.\"\n",
              "            style=\"display:none;\">\n",
              "\n",
              "  <svg xmlns=\"http://www.w3.org/2000/svg\" height=\"24px\" viewBox=\"0 -960 960 960\">\n",
              "    <path d=\"M120-120v-720h720v720H120Zm60-500h600v-160H180v160Zm220 220h160v-160H400v160Zm0 220h160v-160H400v160ZM180-400h160v-160H180v160Zm440 0h160v-160H620v160ZM180-180h160v-160H180v160Zm440 0h160v-160H620v160Z\"/>\n",
              "  </svg>\n",
              "    </button>\n",
              "\n",
              "  <style>\n",
              "    .colab-df-container {\n",
              "      display:flex;\n",
              "      gap: 12px;\n",
              "    }\n",
              "\n",
              "    .colab-df-convert {\n",
              "      background-color: #E8F0FE;\n",
              "      border: none;\n",
              "      border-radius: 50%;\n",
              "      cursor: pointer;\n",
              "      display: none;\n",
              "      fill: #1967D2;\n",
              "      height: 32px;\n",
              "      padding: 0 0 0 0;\n",
              "      width: 32px;\n",
              "    }\n",
              "\n",
              "    .colab-df-convert:hover {\n",
              "      background-color: #E2EBFA;\n",
              "      box-shadow: 0px 1px 2px rgba(60, 64, 67, 0.3), 0px 1px 3px 1px rgba(60, 64, 67, 0.15);\n",
              "      fill: #174EA6;\n",
              "    }\n",
              "\n",
              "    .colab-df-buttons div {\n",
              "      margin-bottom: 4px;\n",
              "    }\n",
              "\n",
              "    [theme=dark] .colab-df-convert {\n",
              "      background-color: #3B4455;\n",
              "      fill: #D2E3FC;\n",
              "    }\n",
              "\n",
              "    [theme=dark] .colab-df-convert:hover {\n",
              "      background-color: #434B5C;\n",
              "      box-shadow: 0px 1px 3px 1px rgba(0, 0, 0, 0.15);\n",
              "      filter: drop-shadow(0px 1px 2px rgba(0, 0, 0, 0.3));\n",
              "      fill: #FFFFFF;\n",
              "    }\n",
              "  </style>\n",
              "\n",
              "    <script>\n",
              "      const buttonEl =\n",
              "        document.querySelector('#df-a715ddda-2b4d-442c-baf8-15a151605b81 button.colab-df-convert');\n",
              "      buttonEl.style.display =\n",
              "        google.colab.kernel.accessAllowed ? 'block' : 'none';\n",
              "\n",
              "      async function convertToInteractive(key) {\n",
              "        const element = document.querySelector('#df-a715ddda-2b4d-442c-baf8-15a151605b81');\n",
              "        const dataTable =\n",
              "          await google.colab.kernel.invokeFunction('convertToInteractive',\n",
              "                                                    [key], {});\n",
              "        if (!dataTable) return;\n",
              "\n",
              "        const docLinkHtml = 'Like what you see? Visit the ' +\n",
              "          '<a target=\"_blank\" href=https://colab.research.google.com/notebooks/data_table.ipynb>data table notebook</a>'\n",
              "          + ' to learn more about interactive tables.';\n",
              "        element.innerHTML = '';\n",
              "        dataTable['output_type'] = 'display_data';\n",
              "        await google.colab.output.renderOutput(dataTable, element);\n",
              "        const docLink = document.createElement('div');\n",
              "        docLink.innerHTML = docLinkHtml;\n",
              "        element.appendChild(docLink);\n",
              "      }\n",
              "    </script>\n",
              "  </div>\n",
              "\n",
              "\n",
              "<div id=\"df-0f4da2db-d6f4-4923-832e-5dad20efdcc2\">\n",
              "  <button class=\"colab-df-quickchart\" onclick=\"quickchart('df-0f4da2db-d6f4-4923-832e-5dad20efdcc2')\"\n",
              "            title=\"Suggest charts\"\n",
              "            style=\"display:none;\">\n",
              "\n",
              "<svg xmlns=\"http://www.w3.org/2000/svg\" height=\"24px\"viewBox=\"0 0 24 24\"\n",
              "     width=\"24px\">\n",
              "    <g>\n",
              "        <path d=\"M19 3H5c-1.1 0-2 .9-2 2v14c0 1.1.9 2 2 2h14c1.1 0 2-.9 2-2V5c0-1.1-.9-2-2-2zM9 17H7v-7h2v7zm4 0h-2V7h2v10zm4 0h-2v-4h2v4z\"/>\n",
              "    </g>\n",
              "</svg>\n",
              "  </button>\n",
              "\n",
              "<style>\n",
              "  .colab-df-quickchart {\n",
              "      --bg-color: #E8F0FE;\n",
              "      --fill-color: #1967D2;\n",
              "      --hover-bg-color: #E2EBFA;\n",
              "      --hover-fill-color: #174EA6;\n",
              "      --disabled-fill-color: #AAA;\n",
              "      --disabled-bg-color: #DDD;\n",
              "  }\n",
              "\n",
              "  [theme=dark] .colab-df-quickchart {\n",
              "      --bg-color: #3B4455;\n",
              "      --fill-color: #D2E3FC;\n",
              "      --hover-bg-color: #434B5C;\n",
              "      --hover-fill-color: #FFFFFF;\n",
              "      --disabled-bg-color: #3B4455;\n",
              "      --disabled-fill-color: #666;\n",
              "  }\n",
              "\n",
              "  .colab-df-quickchart {\n",
              "    background-color: var(--bg-color);\n",
              "    border: none;\n",
              "    border-radius: 50%;\n",
              "    cursor: pointer;\n",
              "    display: none;\n",
              "    fill: var(--fill-color);\n",
              "    height: 32px;\n",
              "    padding: 0;\n",
              "    width: 32px;\n",
              "  }\n",
              "\n",
              "  .colab-df-quickchart:hover {\n",
              "    background-color: var(--hover-bg-color);\n",
              "    box-shadow: 0 1px 2px rgba(60, 64, 67, 0.3), 0 1px 3px 1px rgba(60, 64, 67, 0.15);\n",
              "    fill: var(--button-hover-fill-color);\n",
              "  }\n",
              "\n",
              "  .colab-df-quickchart-complete:disabled,\n",
              "  .colab-df-quickchart-complete:disabled:hover {\n",
              "    background-color: var(--disabled-bg-color);\n",
              "    fill: var(--disabled-fill-color);\n",
              "    box-shadow: none;\n",
              "  }\n",
              "\n",
              "  .colab-df-spinner {\n",
              "    border: 2px solid var(--fill-color);\n",
              "    border-color: transparent;\n",
              "    border-bottom-color: var(--fill-color);\n",
              "    animation:\n",
              "      spin 1s steps(1) infinite;\n",
              "  }\n",
              "\n",
              "  @keyframes spin {\n",
              "    0% {\n",
              "      border-color: transparent;\n",
              "      border-bottom-color: var(--fill-color);\n",
              "      border-left-color: var(--fill-color);\n",
              "    }\n",
              "    20% {\n",
              "      border-color: transparent;\n",
              "      border-left-color: var(--fill-color);\n",
              "      border-top-color: var(--fill-color);\n",
              "    }\n",
              "    30% {\n",
              "      border-color: transparent;\n",
              "      border-left-color: var(--fill-color);\n",
              "      border-top-color: var(--fill-color);\n",
              "      border-right-color: var(--fill-color);\n",
              "    }\n",
              "    40% {\n",
              "      border-color: transparent;\n",
              "      border-right-color: var(--fill-color);\n",
              "      border-top-color: var(--fill-color);\n",
              "    }\n",
              "    60% {\n",
              "      border-color: transparent;\n",
              "      border-right-color: var(--fill-color);\n",
              "    }\n",
              "    80% {\n",
              "      border-color: transparent;\n",
              "      border-right-color: var(--fill-color);\n",
              "      border-bottom-color: var(--fill-color);\n",
              "    }\n",
              "    90% {\n",
              "      border-color: transparent;\n",
              "      border-bottom-color: var(--fill-color);\n",
              "    }\n",
              "  }\n",
              "</style>\n",
              "\n",
              "  <script>\n",
              "    async function quickchart(key) {\n",
              "      const quickchartButtonEl =\n",
              "        document.querySelector('#' + key + ' button');\n",
              "      quickchartButtonEl.disabled = true;  // To prevent multiple clicks.\n",
              "      quickchartButtonEl.classList.add('colab-df-spinner');\n",
              "      try {\n",
              "        const charts = await google.colab.kernel.invokeFunction(\n",
              "            'suggestCharts', [key], {});\n",
              "      } catch (error) {\n",
              "        console.error('Error during call to suggestCharts:', error);\n",
              "      }\n",
              "      quickchartButtonEl.classList.remove('colab-df-spinner');\n",
              "      quickchartButtonEl.classList.add('colab-df-quickchart-complete');\n",
              "    }\n",
              "    (() => {\n",
              "      let quickchartButtonEl =\n",
              "        document.querySelector('#df-0f4da2db-d6f4-4923-832e-5dad20efdcc2 button');\n",
              "      quickchartButtonEl.style.display =\n",
              "        google.colab.kernel.accessAllowed ? 'block' : 'none';\n",
              "    })();\n",
              "  </script>\n",
              "</div>\n",
              "    </div>\n",
              "  </div>\n"
            ]
          },
          "metadata": {},
          "execution_count": 22
        }
      ]
    },
    {
      "cell_type": "code",
      "source": [
        "lof = LocalOutlierFactor(n_neighbors=20, contamination=0.08)\n",
        "outliers = lof.fit_predict(datosFS)"
      ],
      "metadata": {
        "id": "lvVAK3DF0YVC"
      },
      "execution_count": 23,
      "outputs": []
    },
    {
      "cell_type": "code",
      "source": [
        "print(\"Outlier Scores:\")\n",
        "print(lof.negative_outlier_factor_)"
      ],
      "metadata": {
        "colab": {
          "base_uri": "https://localhost:8080/"
        },
        "id": "Wc9826wy04ue",
        "outputId": "9922118b-ea80-4389-ffb8-b74048a8197a"
      },
      "execution_count": 24,
      "outputs": [
        {
          "output_type": "stream",
          "name": "stdout",
          "text": [
            "Outlier Scores:\n",
            "[-1.15543423 -1.76339421 -1.70493515 ... -1.69173038 -1.24472737\n",
            " -1.08523712]\n"
          ]
        }
      ]
    },
    {
      "cell_type": "code",
      "source": [
        "print(\"\\nOutlier Indices:\")\n",
        "indicesOutliers = np.where(outliers == -1)[0]"
      ],
      "metadata": {
        "colab": {
          "base_uri": "https://localhost:8080/"
        },
        "id": "mefCVunT08YE",
        "outputId": "acab3866-550f-4659-b3a9-26627d44a55f"
      },
      "execution_count": 25,
      "outputs": [
        {
          "output_type": "stream",
          "name": "stdout",
          "text": [
            "\n",
            "Outlier Indices:\n"
          ]
        }
      ]
    },
    {
      "cell_type": "code",
      "source": [
        "len(indicesOutliers)"
      ],
      "metadata": {
        "colab": {
          "base_uri": "https://localhost:8080/"
        },
        "id": "x6tca_xu1WwL",
        "outputId": "1c2f29cc-78bb-4243-9f73-38dc31f785b1"
      },
      "execution_count": 26,
      "outputs": [
        {
          "output_type": "execute_result",
          "data": {
            "text/plain": [
              "6223"
            ]
          },
          "metadata": {},
          "execution_count": 26
        }
      ]
    },
    {
      "cell_type": "code",
      "source": [
        "datosFSOut = datosFS.drop(indicesOutliers)"
      ],
      "metadata": {
        "id": "3TTZCgWY2G60"
      },
      "execution_count": 27,
      "outputs": []
    },
    {
      "cell_type": "code",
      "source": [
        "datosFSOut.shape"
      ],
      "metadata": {
        "colab": {
          "base_uri": "https://localhost:8080/"
        },
        "id": "JtH52q1w2Ska",
        "outputId": "11fb4c76-5462-4fe1-f08d-61ad18d6381b"
      },
      "execution_count": 28,
      "outputs": [
        {
          "output_type": "execute_result",
          "data": {
            "text/plain": [
              "(71556, 37)"
            ]
          },
          "metadata": {},
          "execution_count": 28
        }
      ]
    },
    {
      "cell_type": "code",
      "source": [
        "csv_file_path = '/content/trainFSOut.csv'\n",
        "datosFSOut.to_csv(csv_file_path, index=False)"
      ],
      "metadata": {
        "id": "rsZtoGSd29V0"
      },
      "execution_count": 29,
      "outputs": []
    },
    {
      "cell_type": "code",
      "source": [
        "datos = pd.read_csv('trainReg.txt', sep=',')"
      ],
      "metadata": {
        "id": "Smy4ghs13FIj"
      },
      "execution_count": 34,
      "outputs": []
    },
    {
      "cell_type": "code",
      "source": [
        "trainOut = datos.drop(indicesOutliers)"
      ],
      "metadata": {
        "id": "afZ5H5e53TXh"
      },
      "execution_count": 36,
      "outputs": []
    },
    {
      "cell_type": "code",
      "source": [
        "csv_file_path = '/content/trainOut.csv'\n",
        "trainOut.to_csv(csv_file_path, index=False)"
      ],
      "metadata": {
        "id": "0imrysIB3hY8"
      },
      "execution_count": 37,
      "outputs": []
    }
  ]
}