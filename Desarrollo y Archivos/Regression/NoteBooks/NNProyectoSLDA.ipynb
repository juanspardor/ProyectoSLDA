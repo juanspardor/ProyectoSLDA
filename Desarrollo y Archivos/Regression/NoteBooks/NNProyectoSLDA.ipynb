{
  "nbformat": 4,
  "nbformat_minor": 0,
  "metadata": {
    "colab": {
      "provenance": [],
      "gpuType": "T4"
    },
    "kernelspec": {
      "name": "python3",
      "display_name": "Python 3"
    },
    "language_info": {
      "name": "python"
    },
    "accelerator": "GPU"
  },
  "cells": [
    {
      "cell_type": "code",
      "execution_count": 126,
      "metadata": {
        "id": "qALFip4L4456"
      },
      "outputs": [],
      "source": [
        "import tensorflow as tf\n",
        "from tensorflow import keras\n",
        "import pandas as pd\n",
        "import matplotlib.pyplot as plt\n",
        "import numpy as np\n",
        "from keras.models import Sequential\n",
        "from keras.layers import Dense\n",
        "from keras.utils import plot_model"
      ]
    },
    {
      "cell_type": "code",
      "source": [
        "from sklearn import metrics\n",
        "from sklearn.metrics import accuracy_score\n",
        "from sklearn.metrics import precision_score\n",
        "from sklearn.metrics import confusion_matrix\n",
        "from sklearn.model_selection import train_test_split"
      ],
      "metadata": {
        "id": "ZBNOFrHg9rar"
      },
      "execution_count": 127,
      "outputs": []
    },
    {
      "cell_type": "code",
      "source": [
        "pip install -q -U keras-tuner"
      ],
      "metadata": {
        "id": "3sD4mVlID33O"
      },
      "execution_count": 128,
      "outputs": []
    },
    {
      "cell_type": "code",
      "source": [
        "dataset = pd.read_csv('trainFSOut.csv', sep = ',')\n",
        "dataset.head()\n"
      ],
      "metadata": {
        "colab": {
          "base_uri": "https://localhost:8080/",
          "height": 256
        },
        "id": "_-DDPoOd8u0T",
        "outputId": "58674174-361a-4a3e-fcfb-0a45dd3bd1ec"
      },
      "execution_count": 129,
      "outputs": [
        {
          "output_type": "execute_result",
          "data": {
            "text/plain": [
              "     V1        V2        V6        V9       V12         V15        V21  \\\n",
              "0  2013  44.81144  10.94148 -10.47324 -11.21128  1676.12521  544.63214   \n",
              "1  1998  40.36025  13.71369  21.22366  72.23955  1200.94135  371.45147   \n",
              "2  1998  34.90586 -14.39691  19.92807 -41.86717  4979.39501  640.34514   \n",
              "3  2010  38.33052  38.90102 -15.29979   6.25692  1591.09955  290.20644   \n",
              "4  2003  46.77111 -12.58113  -9.54412  -2.93801  1357.49232  391.19269   \n",
              "\n",
              "         V25        V26        V30  ...       V64        V68       V69  \\\n",
              "0  181.18914   44.03539   19.27062  ...   5.95107  -70.83687  53.85723   \n",
              "1  157.14072   48.27389  -10.87756  ...  47.36679    2.58945  87.65853   \n",
              "2  253.76674  337.22745 -220.34684  ...  82.43589  105.16971  13.09901   \n",
              "3  308.60262  120.44277  162.11424  ...  48.99682   -0.59596  19.46347   \n",
              "4  120.78398   -7.52122    9.05411  ...   1.74367  -46.64954  35.91462   \n",
              "\n",
              "        V70        V73       V74       V75        V79       V86        V87  \n",
              "0 -62.46520    6.77515  22.11467  49.08550   96.51177  -0.28694  155.76251  \n",
              "1  64.48695  302.88143  42.41827  42.43876   19.93983   8.08807  135.08089  \n",
              "2  77.40317  460.84171 -52.81775 -67.13467   41.95440 -13.07824  201.50812  \n",
              "3   2.43965 -453.25885  64.52542  14.14872 -370.82563 -54.93290  103.50970  \n",
              "4  -0.28258   11.65453 -41.98850  29.96390  205.29639  20.29651   21.04539  \n",
              "\n",
              "[5 rows x 37 columns]"
            ],
            "text/html": [
              "\n",
              "  <div id=\"df-c15c0647-c9b6-4df4-a914-f43be9e859a2\" class=\"colab-df-container\">\n",
              "    <div>\n",
              "<style scoped>\n",
              "    .dataframe tbody tr th:only-of-type {\n",
              "        vertical-align: middle;\n",
              "    }\n",
              "\n",
              "    .dataframe tbody tr th {\n",
              "        vertical-align: top;\n",
              "    }\n",
              "\n",
              "    .dataframe thead th {\n",
              "        text-align: right;\n",
              "    }\n",
              "</style>\n",
              "<table border=\"1\" class=\"dataframe\">\n",
              "  <thead>\n",
              "    <tr style=\"text-align: right;\">\n",
              "      <th></th>\n",
              "      <th>V1</th>\n",
              "      <th>V2</th>\n",
              "      <th>V6</th>\n",
              "      <th>V9</th>\n",
              "      <th>V12</th>\n",
              "      <th>V15</th>\n",
              "      <th>V21</th>\n",
              "      <th>V25</th>\n",
              "      <th>V26</th>\n",
              "      <th>V30</th>\n",
              "      <th>...</th>\n",
              "      <th>V64</th>\n",
              "      <th>V68</th>\n",
              "      <th>V69</th>\n",
              "      <th>V70</th>\n",
              "      <th>V73</th>\n",
              "      <th>V74</th>\n",
              "      <th>V75</th>\n",
              "      <th>V79</th>\n",
              "      <th>V86</th>\n",
              "      <th>V87</th>\n",
              "    </tr>\n",
              "  </thead>\n",
              "  <tbody>\n",
              "    <tr>\n",
              "      <th>0</th>\n",
              "      <td>2013</td>\n",
              "      <td>44.81144</td>\n",
              "      <td>10.94148</td>\n",
              "      <td>-10.47324</td>\n",
              "      <td>-11.21128</td>\n",
              "      <td>1676.12521</td>\n",
              "      <td>544.63214</td>\n",
              "      <td>181.18914</td>\n",
              "      <td>44.03539</td>\n",
              "      <td>19.27062</td>\n",
              "      <td>...</td>\n",
              "      <td>5.95107</td>\n",
              "      <td>-70.83687</td>\n",
              "      <td>53.85723</td>\n",
              "      <td>-62.46520</td>\n",
              "      <td>6.77515</td>\n",
              "      <td>22.11467</td>\n",
              "      <td>49.08550</td>\n",
              "      <td>96.51177</td>\n",
              "      <td>-0.28694</td>\n",
              "      <td>155.76251</td>\n",
              "    </tr>\n",
              "    <tr>\n",
              "      <th>1</th>\n",
              "      <td>1998</td>\n",
              "      <td>40.36025</td>\n",
              "      <td>13.71369</td>\n",
              "      <td>21.22366</td>\n",
              "      <td>72.23955</td>\n",
              "      <td>1200.94135</td>\n",
              "      <td>371.45147</td>\n",
              "      <td>157.14072</td>\n",
              "      <td>48.27389</td>\n",
              "      <td>-10.87756</td>\n",
              "      <td>...</td>\n",
              "      <td>47.36679</td>\n",
              "      <td>2.58945</td>\n",
              "      <td>87.65853</td>\n",
              "      <td>64.48695</td>\n",
              "      <td>302.88143</td>\n",
              "      <td>42.41827</td>\n",
              "      <td>42.43876</td>\n",
              "      <td>19.93983</td>\n",
              "      <td>8.08807</td>\n",
              "      <td>135.08089</td>\n",
              "    </tr>\n",
              "    <tr>\n",
              "      <th>2</th>\n",
              "      <td>1998</td>\n",
              "      <td>34.90586</td>\n",
              "      <td>-14.39691</td>\n",
              "      <td>19.92807</td>\n",
              "      <td>-41.86717</td>\n",
              "      <td>4979.39501</td>\n",
              "      <td>640.34514</td>\n",
              "      <td>253.76674</td>\n",
              "      <td>337.22745</td>\n",
              "      <td>-220.34684</td>\n",
              "      <td>...</td>\n",
              "      <td>82.43589</td>\n",
              "      <td>105.16971</td>\n",
              "      <td>13.09901</td>\n",
              "      <td>77.40317</td>\n",
              "      <td>460.84171</td>\n",
              "      <td>-52.81775</td>\n",
              "      <td>-67.13467</td>\n",
              "      <td>41.95440</td>\n",
              "      <td>-13.07824</td>\n",
              "      <td>201.50812</td>\n",
              "    </tr>\n",
              "    <tr>\n",
              "      <th>3</th>\n",
              "      <td>2010</td>\n",
              "      <td>38.33052</td>\n",
              "      <td>38.90102</td>\n",
              "      <td>-15.29979</td>\n",
              "      <td>6.25692</td>\n",
              "      <td>1591.09955</td>\n",
              "      <td>290.20644</td>\n",
              "      <td>308.60262</td>\n",
              "      <td>120.44277</td>\n",
              "      <td>162.11424</td>\n",
              "      <td>...</td>\n",
              "      <td>48.99682</td>\n",
              "      <td>-0.59596</td>\n",
              "      <td>19.46347</td>\n",
              "      <td>2.43965</td>\n",
              "      <td>-453.25885</td>\n",
              "      <td>64.52542</td>\n",
              "      <td>14.14872</td>\n",
              "      <td>-370.82563</td>\n",
              "      <td>-54.93290</td>\n",
              "      <td>103.50970</td>\n",
              "    </tr>\n",
              "    <tr>\n",
              "      <th>4</th>\n",
              "      <td>2003</td>\n",
              "      <td>46.77111</td>\n",
              "      <td>-12.58113</td>\n",
              "      <td>-9.54412</td>\n",
              "      <td>-2.93801</td>\n",
              "      <td>1357.49232</td>\n",
              "      <td>391.19269</td>\n",
              "      <td>120.78398</td>\n",
              "      <td>-7.52122</td>\n",
              "      <td>9.05411</td>\n",
              "      <td>...</td>\n",
              "      <td>1.74367</td>\n",
              "      <td>-46.64954</td>\n",
              "      <td>35.91462</td>\n",
              "      <td>-0.28258</td>\n",
              "      <td>11.65453</td>\n",
              "      <td>-41.98850</td>\n",
              "      <td>29.96390</td>\n",
              "      <td>205.29639</td>\n",
              "      <td>20.29651</td>\n",
              "      <td>21.04539</td>\n",
              "    </tr>\n",
              "  </tbody>\n",
              "</table>\n",
              "<p>5 rows × 37 columns</p>\n",
              "</div>\n",
              "    <div class=\"colab-df-buttons\">\n",
              "\n",
              "  <div class=\"colab-df-container\">\n",
              "    <button class=\"colab-df-convert\" onclick=\"convertToInteractive('df-c15c0647-c9b6-4df4-a914-f43be9e859a2')\"\n",
              "            title=\"Convert this dataframe to an interactive table.\"\n",
              "            style=\"display:none;\">\n",
              "\n",
              "  <svg xmlns=\"http://www.w3.org/2000/svg\" height=\"24px\" viewBox=\"0 -960 960 960\">\n",
              "    <path d=\"M120-120v-720h720v720H120Zm60-500h600v-160H180v160Zm220 220h160v-160H400v160Zm0 220h160v-160H400v160ZM180-400h160v-160H180v160Zm440 0h160v-160H620v160ZM180-180h160v-160H180v160Zm440 0h160v-160H620v160Z\"/>\n",
              "  </svg>\n",
              "    </button>\n",
              "\n",
              "  <style>\n",
              "    .colab-df-container {\n",
              "      display:flex;\n",
              "      gap: 12px;\n",
              "    }\n",
              "\n",
              "    .colab-df-convert {\n",
              "      background-color: #E8F0FE;\n",
              "      border: none;\n",
              "      border-radius: 50%;\n",
              "      cursor: pointer;\n",
              "      display: none;\n",
              "      fill: #1967D2;\n",
              "      height: 32px;\n",
              "      padding: 0 0 0 0;\n",
              "      width: 32px;\n",
              "    }\n",
              "\n",
              "    .colab-df-convert:hover {\n",
              "      background-color: #E2EBFA;\n",
              "      box-shadow: 0px 1px 2px rgba(60, 64, 67, 0.3), 0px 1px 3px 1px rgba(60, 64, 67, 0.15);\n",
              "      fill: #174EA6;\n",
              "    }\n",
              "\n",
              "    .colab-df-buttons div {\n",
              "      margin-bottom: 4px;\n",
              "    }\n",
              "\n",
              "    [theme=dark] .colab-df-convert {\n",
              "      background-color: #3B4455;\n",
              "      fill: #D2E3FC;\n",
              "    }\n",
              "\n",
              "    [theme=dark] .colab-df-convert:hover {\n",
              "      background-color: #434B5C;\n",
              "      box-shadow: 0px 1px 3px 1px rgba(0, 0, 0, 0.15);\n",
              "      filter: drop-shadow(0px 1px 2px rgba(0, 0, 0, 0.3));\n",
              "      fill: #FFFFFF;\n",
              "    }\n",
              "  </style>\n",
              "\n",
              "    <script>\n",
              "      const buttonEl =\n",
              "        document.querySelector('#df-c15c0647-c9b6-4df4-a914-f43be9e859a2 button.colab-df-convert');\n",
              "      buttonEl.style.display =\n",
              "        google.colab.kernel.accessAllowed ? 'block' : 'none';\n",
              "\n",
              "      async function convertToInteractive(key) {\n",
              "        const element = document.querySelector('#df-c15c0647-c9b6-4df4-a914-f43be9e859a2');\n",
              "        const dataTable =\n",
              "          await google.colab.kernel.invokeFunction('convertToInteractive',\n",
              "                                                    [key], {});\n",
              "        if (!dataTable) return;\n",
              "\n",
              "        const docLinkHtml = 'Like what you see? Visit the ' +\n",
              "          '<a target=\"_blank\" href=https://colab.research.google.com/notebooks/data_table.ipynb>data table notebook</a>'\n",
              "          + ' to learn more about interactive tables.';\n",
              "        element.innerHTML = '';\n",
              "        dataTable['output_type'] = 'display_data';\n",
              "        await google.colab.output.renderOutput(dataTable, element);\n",
              "        const docLink = document.createElement('div');\n",
              "        docLink.innerHTML = docLinkHtml;\n",
              "        element.appendChild(docLink);\n",
              "      }\n",
              "    </script>\n",
              "  </div>\n",
              "\n",
              "\n",
              "<div id=\"df-41f33c2e-cea9-4195-b68a-9a605d48d640\">\n",
              "  <button class=\"colab-df-quickchart\" onclick=\"quickchart('df-41f33c2e-cea9-4195-b68a-9a605d48d640')\"\n",
              "            title=\"Suggest charts\"\n",
              "            style=\"display:none;\">\n",
              "\n",
              "<svg xmlns=\"http://www.w3.org/2000/svg\" height=\"24px\"viewBox=\"0 0 24 24\"\n",
              "     width=\"24px\">\n",
              "    <g>\n",
              "        <path d=\"M19 3H5c-1.1 0-2 .9-2 2v14c0 1.1.9 2 2 2h14c1.1 0 2-.9 2-2V5c0-1.1-.9-2-2-2zM9 17H7v-7h2v7zm4 0h-2V7h2v10zm4 0h-2v-4h2v4z\"/>\n",
              "    </g>\n",
              "</svg>\n",
              "  </button>\n",
              "\n",
              "<style>\n",
              "  .colab-df-quickchart {\n",
              "      --bg-color: #E8F0FE;\n",
              "      --fill-color: #1967D2;\n",
              "      --hover-bg-color: #E2EBFA;\n",
              "      --hover-fill-color: #174EA6;\n",
              "      --disabled-fill-color: #AAA;\n",
              "      --disabled-bg-color: #DDD;\n",
              "  }\n",
              "\n",
              "  [theme=dark] .colab-df-quickchart {\n",
              "      --bg-color: #3B4455;\n",
              "      --fill-color: #D2E3FC;\n",
              "      --hover-bg-color: #434B5C;\n",
              "      --hover-fill-color: #FFFFFF;\n",
              "      --disabled-bg-color: #3B4455;\n",
              "      --disabled-fill-color: #666;\n",
              "  }\n",
              "\n",
              "  .colab-df-quickchart {\n",
              "    background-color: var(--bg-color);\n",
              "    border: none;\n",
              "    border-radius: 50%;\n",
              "    cursor: pointer;\n",
              "    display: none;\n",
              "    fill: var(--fill-color);\n",
              "    height: 32px;\n",
              "    padding: 0;\n",
              "    width: 32px;\n",
              "  }\n",
              "\n",
              "  .colab-df-quickchart:hover {\n",
              "    background-color: var(--hover-bg-color);\n",
              "    box-shadow: 0 1px 2px rgba(60, 64, 67, 0.3), 0 1px 3px 1px rgba(60, 64, 67, 0.15);\n",
              "    fill: var(--button-hover-fill-color);\n",
              "  }\n",
              "\n",
              "  .colab-df-quickchart-complete:disabled,\n",
              "  .colab-df-quickchart-complete:disabled:hover {\n",
              "    background-color: var(--disabled-bg-color);\n",
              "    fill: var(--disabled-fill-color);\n",
              "    box-shadow: none;\n",
              "  }\n",
              "\n",
              "  .colab-df-spinner {\n",
              "    border: 2px solid var(--fill-color);\n",
              "    border-color: transparent;\n",
              "    border-bottom-color: var(--fill-color);\n",
              "    animation:\n",
              "      spin 1s steps(1) infinite;\n",
              "  }\n",
              "\n",
              "  @keyframes spin {\n",
              "    0% {\n",
              "      border-color: transparent;\n",
              "      border-bottom-color: var(--fill-color);\n",
              "      border-left-color: var(--fill-color);\n",
              "    }\n",
              "    20% {\n",
              "      border-color: transparent;\n",
              "      border-left-color: var(--fill-color);\n",
              "      border-top-color: var(--fill-color);\n",
              "    }\n",
              "    30% {\n",
              "      border-color: transparent;\n",
              "      border-left-color: var(--fill-color);\n",
              "      border-top-color: var(--fill-color);\n",
              "      border-right-color: var(--fill-color);\n",
              "    }\n",
              "    40% {\n",
              "      border-color: transparent;\n",
              "      border-right-color: var(--fill-color);\n",
              "      border-top-color: var(--fill-color);\n",
              "    }\n",
              "    60% {\n",
              "      border-color: transparent;\n",
              "      border-right-color: var(--fill-color);\n",
              "    }\n",
              "    80% {\n",
              "      border-color: transparent;\n",
              "      border-right-color: var(--fill-color);\n",
              "      border-bottom-color: var(--fill-color);\n",
              "    }\n",
              "    90% {\n",
              "      border-color: transparent;\n",
              "      border-bottom-color: var(--fill-color);\n",
              "    }\n",
              "  }\n",
              "</style>\n",
              "\n",
              "  <script>\n",
              "    async function quickchart(key) {\n",
              "      const quickchartButtonEl =\n",
              "        document.querySelector('#' + key + ' button');\n",
              "      quickchartButtonEl.disabled = true;  // To prevent multiple clicks.\n",
              "      quickchartButtonEl.classList.add('colab-df-spinner');\n",
              "      try {\n",
              "        const charts = await google.colab.kernel.invokeFunction(\n",
              "            'suggestCharts', [key], {});\n",
              "      } catch (error) {\n",
              "        console.error('Error during call to suggestCharts:', error);\n",
              "      }\n",
              "      quickchartButtonEl.classList.remove('colab-df-spinner');\n",
              "      quickchartButtonEl.classList.add('colab-df-quickchart-complete');\n",
              "    }\n",
              "    (() => {\n",
              "      let quickchartButtonEl =\n",
              "        document.querySelector('#df-41f33c2e-cea9-4195-b68a-9a605d48d640 button');\n",
              "      quickchartButtonEl.style.display =\n",
              "        google.colab.kernel.accessAllowed ? 'block' : 'none';\n",
              "    })();\n",
              "  </script>\n",
              "</div>\n",
              "    </div>\n",
              "  </div>\n"
            ]
          },
          "metadata": {},
          "execution_count": 129
        }
      ]
    },
    {
      "cell_type": "code",
      "source": [
        "dataset = dataset.to_numpy()\n",
        "X_train,y_train = dataset[:,1:37], dataset[:,0]"
      ],
      "metadata": {
        "id": "DakcezMB9gpK"
      },
      "execution_count": 130,
      "outputs": []
    },
    {
      "cell_type": "code",
      "source": [
        "X_train.shape[1]"
      ],
      "metadata": {
        "colab": {
          "base_uri": "https://localhost:8080/"
        },
        "id": "rWuQ_U5SBb9P",
        "outputId": "e9340353-d132-44b0-ff45-61826dc54215"
      },
      "execution_count": 131,
      "outputs": [
        {
          "output_type": "execute_result",
          "data": {
            "text/plain": [
              "36"
            ]
          },
          "metadata": {},
          "execution_count": 131
        }
      ]
    },
    {
      "cell_type": "code",
      "source": [
        "model = keras.models.Sequential()\n",
        "model.add(Dense(8, activation='relu', input_dim = X_train.shape[1]))\n",
        "model.add(Dense(4, activation = 'relu'))\n",
        "model.add(Dense(1))"
      ],
      "metadata": {
        "id": "0W9crKD2-SGz"
      },
      "execution_count": 132,
      "outputs": []
    },
    {
      "cell_type": "code",
      "source": [
        "plot_model(model, show_shapes=True, show_layer_names=True)"
      ],
      "metadata": {
        "colab": {
          "base_uri": "https://localhost:8080/",
          "height": 422
        },
        "id": "mQcWRQB0CDqS",
        "outputId": "953ef146-9497-468c-aae8-def10d42ba47"
      },
      "execution_count": null,
      "outputs": [
        {
          "output_type": "execute_result",
          "data": {
            "image/png": "[encoded data removed]",
            "text/plain": [
              "<IPython.core.display.Image object>"
            ]
          },
          "metadata": {},
          "execution_count": 9
        }
      ]
    },
    {
      "cell_type": "code",
      "source": [
        "model.summary()"
      ],
      "metadata": {
        "colab": {
          "base_uri": "https://localhost:8080/"
        },
        "id": "y4cf2IfoCSIE",
        "outputId": "97b4ce8d-7ed0-4f51-f150-94d1fe78eb17"
      },
      "execution_count": null,
      "outputs": [
        {
          "output_type": "stream",
          "name": "stdout",
          "text": [
            "Model: \"sequential\"\n",
            "_________________________________________________________________\n",
            " Layer (type)                Output Shape              Param #   \n",
            "=================================================================\n",
            " dense (Dense)               (None, 8)                 296       \n",
            "                                                                 \n",
            " dense_1 (Dense)             (None, 4)                 36        \n",
            "                                                                 \n",
            " dense_2 (Dense)             (None, 1)                 5         \n",
            "                                                                 \n",
            "=================================================================\n",
            "Total params: 337 (1.32 KB)\n",
            "Trainable params: 337 (1.32 KB)\n",
            "Non-trainable params: 0 (0.00 Byte)\n",
            "_________________________________________________________________\n"
          ]
        }
      ]
    },
    {
      "cell_type": "code",
      "source": [
        "model.compile(loss = \"mean_squared_error\", optimizer = \"adam\")"
      ],
      "metadata": {
        "id": "JpJbPY39CkvI"
      },
      "execution_count": null,
      "outputs": []
    },
    {
      "cell_type": "code",
      "source": [
        "history = model.fit(X_train, y_train, epochs = 50, validation_data = (X_test,y_test))"
      ],
      "metadata": {
        "id": "Gw917X5VC6Jr"
      },
      "execution_count": null,
      "outputs": []
    },
    {
      "cell_type": "code",
      "source": [
        "def model_builder(hp):\n",
        "  model = keras.Sequential()\n",
        "\n",
        "  hp_activation = hp.Choice('activation', values = ['relu', 'sigmoid'])\n",
        "  hp_layer_1 = hp.Int('layer_1', min_value = 1, max_value = 10000, step = 100 )\n",
        "  hp_layer_2 = hp.Int('layer_2', min_value = 1, max_value = 10000, step = 100 )\n",
        "  hp_learning_rate = hp.Choice('learning_rate', values = [1e-2, 1e-3, 1e-4])\n",
        "\n",
        "  model.add(Dense(units = hp_layer_1, activation = hp_activation))\n",
        "  model.add(Dense(units = hp_layer_2, activation = hp_activation))\n",
        "  model.add(Dense(1))\n",
        "\n",
        "  model.compile(loss = \"mean_squared_error\",\n",
        "                optimizer = keras.optimizers.Adam(learning_rate = hp_learning_rate),\n",
        "                metrics=['mean_squared_error'])\n",
        "\n",
        "  return model"
      ],
      "metadata": {
        "id": "8rjQgaIJE-gj"
      },
      "execution_count": 133,
      "outputs": []
    },
    {
      "cell_type": "code",
      "source": [
        "import keras_tuner as kt"
      ],
      "metadata": {
        "id": "vbbxmkG6HdOb"
      },
      "execution_count": 134,
      "outputs": []
    },
    {
      "cell_type": "code",
      "source": [
        "tuner = kt.Hyperband(model_builder,\n",
        "                     objective = 'val_mean_squared_error',\n",
        "                     max_epochs = 10,\n",
        "                     factor = 3,\n",
        "                     directory = 'dir',\n",
        "                     project_name = 'x')"
      ],
      "metadata": {
        "id": "AAVg4rvGHhst",
        "colab": {
          "base_uri": "https://localhost:8080/"
        },
        "outputId": "683e0ce0-cb72-4544-ca4f-be0f70f2ea69"
      },
      "execution_count": 138,
      "outputs": [
        {
          "output_type": "stream",
          "name": "stdout",
          "text": [
            "Reloading Tuner from dir/x/tuner0.json\n"
          ]
        }
      ]
    },
    {
      "cell_type": "code",
      "source": [
        "stop_early = keras.callbacks.EarlyStopping(monitor = 'val_loss', patience = 3)"
      ],
      "metadata": {
        "id": "5PSHGtYNIvYU"
      },
      "execution_count": 139,
      "outputs": []
    },
    {
      "cell_type": "code",
      "source": [
        "tuner.search(X_train, y_train, epochs = 50, validation_split=0.15, callbacks=[stop_early])"
      ],
      "metadata": {
        "id": "ExbP799gJ-hv"
      },
      "execution_count": 150,
      "outputs": []
    },
    {
      "cell_type": "code",
      "source": [
        "best_hps = tuner.get_best_hyperparameters(num_trials = 1)[0]\n",
        "best_hps"
      ],
      "metadata": {
        "id": "5kb96jTjViGY",
        "colab": {
          "base_uri": "https://localhost:8080/"
        },
        "outputId": "5e0b14de-1712-4253-dc40-255cd1fc631f"
      },
      "execution_count": 151,
      "outputs": [
        {
          "output_type": "execute_result",
          "data": {
            "text/plain": [
              "<keras_tuner.src.engine.hyperparameters.hyperparameters.HyperParameters at 0x7b0ea42d19c0>"
            ]
          },
          "metadata": {},
          "execution_count": 151
        }
      ]
    },
    {
      "cell_type": "code",
      "source": [
        "model = tuner.hypermodel.build(best_hps)"
      ],
      "metadata": {
        "id": "5ww4kG8PVqYV"
      },
      "execution_count": 146,
      "outputs": []
    },
    {
      "cell_type": "code",
      "source": [
        "history = model.fit(X_train, y_train, epochs = 50, validation_split = 0.15, callbacks = [stop_early])"
      ],
      "metadata": {
        "colab": {
          "base_uri": "https://localhost:8080/",
          "height": 363
        },
        "id": "Tk6xkeQ0V3TL",
        "outputId": "99d521d0-f50e-49b8-f2ee-10e9a19abaf6"
      },
      "execution_count": 152,
      "outputs": [
        {
          "output_type": "error",
          "ename": "InternalError",
          "evalue": "ignored",
          "traceback": [
            "\u001b[0;31m---------------------------------------------------------------------------\u001b[0m",
            "\u001b[0;31mInternalError\u001b[0m                             Traceback (most recent call last)",
            "\u001b[0;32m<ipython-input-152-ce15685512aa>\u001b[0m in \u001b[0;36m<cell line: 1>\u001b[0;34m()\u001b[0m\n\u001b[0;32m----> 1\u001b[0;31m \u001b[0mhistory\u001b[0m \u001b[0;34m=\u001b[0m \u001b[0mmodel\u001b[0m\u001b[0;34m.\u001b[0m\u001b[0mfit\u001b[0m\u001b[0;34m(\u001b[0m\u001b[0mX_train\u001b[0m\u001b[0;34m,\u001b[0m \u001b[0my_train\u001b[0m\u001b[0;34m,\u001b[0m \u001b[0mepochs\u001b[0m \u001b[0;34m=\u001b[0m \u001b[0;36m50\u001b[0m\u001b[0;34m,\u001b[0m \u001b[0mvalidation_split\u001b[0m \u001b[0;34m=\u001b[0m \u001b[0;36m0.15\u001b[0m\u001b[0;34m,\u001b[0m \u001b[0mcallbacks\u001b[0m \u001b[0;34m=\u001b[0m \u001b[0;34m[\u001b[0m\u001b[0mstop_early\u001b[0m\u001b[0;34m]\u001b[0m\u001b[0;34m)\u001b[0m\u001b[0;34m\u001b[0m\u001b[0;34m\u001b[0m\u001b[0m\n\u001b[0m",
            "\u001b[0;32m/usr/local/lib/python3.10/dist-packages/keras/src/utils/traceback_utils.py\u001b[0m in \u001b[0;36merror_handler\u001b[0;34m(*args, **kwargs)\u001b[0m\n\u001b[1;32m     68\u001b[0m             \u001b[0;31m# To get the full stack trace, call:\u001b[0m\u001b[0;34m\u001b[0m\u001b[0;34m\u001b[0m\u001b[0m\n\u001b[1;32m     69\u001b[0m             \u001b[0;31m# `tf.debugging.disable_traceback_filtering()`\u001b[0m\u001b[0;34m\u001b[0m\u001b[0;34m\u001b[0m\u001b[0m\n\u001b[0;32m---> 70\u001b[0;31m             \u001b[0;32mraise\u001b[0m \u001b[0me\u001b[0m\u001b[0;34m.\u001b[0m\u001b[0mwith_traceback\u001b[0m\u001b[0;34m(\u001b[0m\u001b[0mfiltered_tb\u001b[0m\u001b[0;34m)\u001b[0m \u001b[0;32mfrom\u001b[0m \u001b[0;32mNone\u001b[0m\u001b[0;34m\u001b[0m\u001b[0;34m\u001b[0m\u001b[0m\n\u001b[0m\u001b[1;32m     71\u001b[0m         \u001b[0;32mfinally\u001b[0m\u001b[0;34m:\u001b[0m\u001b[0;34m\u001b[0m\u001b[0;34m\u001b[0m\u001b[0m\n\u001b[1;32m     72\u001b[0m             \u001b[0;32mdel\u001b[0m \u001b[0mfiltered_tb\u001b[0m\u001b[0;34m\u001b[0m\u001b[0;34m\u001b[0m\u001b[0m\n",
            "\u001b[0;32m/usr/local/lib/python3.10/dist-packages/tensorflow/python/framework/constant_op.py\u001b[0m in \u001b[0;36mconvert_to_eager_tensor\u001b[0;34m(value, ctx, dtype)\u001b[0m\n\u001b[1;32m    100\u001b[0m       \u001b[0mdtype\u001b[0m \u001b[0;34m=\u001b[0m \u001b[0mdtypes\u001b[0m\u001b[0;34m.\u001b[0m\u001b[0mas_dtype\u001b[0m\u001b[0;34m(\u001b[0m\u001b[0mdtype\u001b[0m\u001b[0;34m)\u001b[0m\u001b[0;34m.\u001b[0m\u001b[0mas_datatype_enum\u001b[0m\u001b[0;34m\u001b[0m\u001b[0;34m\u001b[0m\u001b[0m\n\u001b[1;32m    101\u001b[0m   \u001b[0mctx\u001b[0m\u001b[0;34m.\u001b[0m\u001b[0mensure_initialized\u001b[0m\u001b[0;34m(\u001b[0m\u001b[0;34m)\u001b[0m\u001b[0;34m\u001b[0m\u001b[0;34m\u001b[0m\u001b[0m\n\u001b[0;32m--> 102\u001b[0;31m   \u001b[0;32mreturn\u001b[0m \u001b[0mops\u001b[0m\u001b[0;34m.\u001b[0m\u001b[0mEagerTensor\u001b[0m\u001b[0;34m(\u001b[0m\u001b[0mvalue\u001b[0m\u001b[0;34m,\u001b[0m \u001b[0mctx\u001b[0m\u001b[0;34m.\u001b[0m\u001b[0mdevice_name\u001b[0m\u001b[0;34m,\u001b[0m \u001b[0mdtype\u001b[0m\u001b[0;34m)\u001b[0m\u001b[0;34m\u001b[0m\u001b[0;34m\u001b[0m\u001b[0m\n\u001b[0m\u001b[1;32m    103\u001b[0m \u001b[0;34m\u001b[0m\u001b[0m\n\u001b[1;32m    104\u001b[0m \u001b[0;34m\u001b[0m\u001b[0m\n",
            "\u001b[0;31mInternalError\u001b[0m: Failed copying input tensor from /job:localhost/replica:0/task:0/device:CPU:0 to /job:localhost/replica:0/task:0/device:GPU:0 in order to run _EagerConst: Dst tensor is not initialized."
          ]
        }
      ]
    },
    {
      "cell_type": "code",
      "source": [
        "plot_model(model, show_shapes=True, show_layer_names=True)"
      ],
      "metadata": {
        "colab": {
          "base_uri": "https://localhost:8080/",
          "height": 339
        },
        "id": "6dcCPvAvpT1z",
        "outputId": "f23936ef-3374-4faf-d6c6-561f11c60401"
      },
      "execution_count": 147,
      "outputs": [
        {
          "output_type": "error",
          "ename": "ValueError",
          "evalue": "ignored",
          "traceback": [
            "\u001b[0;31m---------------------------------------------------------------------------\u001b[0m",
            "\u001b[0;31mValueError\u001b[0m                                Traceback (most recent call last)",
            "\u001b[0;32m<ipython-input-147-662cf084f705>\u001b[0m in \u001b[0;36m<cell line: 1>\u001b[0;34m()\u001b[0m\n\u001b[0;32m----> 1\u001b[0;31m \u001b[0mplot_model\u001b[0m\u001b[0;34m(\u001b[0m\u001b[0mmodel\u001b[0m\u001b[0;34m,\u001b[0m \u001b[0mshow_shapes\u001b[0m\u001b[0;34m=\u001b[0m\u001b[0;32mTrue\u001b[0m\u001b[0;34m,\u001b[0m \u001b[0mshow_layer_names\u001b[0m\u001b[0;34m=\u001b[0m\u001b[0;32mTrue\u001b[0m\u001b[0;34m)\u001b[0m\u001b[0;34m\u001b[0m\u001b[0;34m\u001b[0m\u001b[0m\n\u001b[0m",
            "\u001b[0;32m/usr/local/lib/python3.10/dist-packages/keras/src/utils/vis_utils.py\u001b[0m in \u001b[0;36mplot_model\u001b[0;34m(model, to_file, show_shapes, show_dtype, show_layer_names, rankdir, expand_nested, dpi, layer_range, show_layer_activations, show_trainable)\u001b[0m\n\u001b[1;32m    443\u001b[0m \u001b[0;34m\u001b[0m\u001b[0m\n\u001b[1;32m    444\u001b[0m     \u001b[0;32mif\u001b[0m \u001b[0;32mnot\u001b[0m \u001b[0mmodel\u001b[0m\u001b[0;34m.\u001b[0m\u001b[0mbuilt\u001b[0m\u001b[0;34m:\u001b[0m\u001b[0;34m\u001b[0m\u001b[0;34m\u001b[0m\u001b[0m\n\u001b[0;32m--> 445\u001b[0;31m         raise ValueError(\n\u001b[0m\u001b[1;32m    446\u001b[0m             \u001b[0;34m\"This model has not yet been built. \"\u001b[0m\u001b[0;34m\u001b[0m\u001b[0;34m\u001b[0m\u001b[0m\n\u001b[1;32m    447\u001b[0m             \u001b[0;34m\"Build the model first by calling `build()` or by calling \"\u001b[0m\u001b[0;34m\u001b[0m\u001b[0;34m\u001b[0m\u001b[0m\n",
            "\u001b[0;31mValueError\u001b[0m: This model has not yet been built. Build the model first by calling `build()` or by calling the model on a batch of data."
          ]
        }
      ]
    },
    {
      "cell_type": "code",
      "source": [
        "model.summary()"
      ],
      "metadata": {
        "colab": {
          "base_uri": "https://localhost:8080/",
          "height": 339
        },
        "id": "A8PBfPr4pwkw",
        "outputId": "65a952d2-6bad-4629-941e-a5e2c59960a2"
      },
      "execution_count": 148,
      "outputs": [
        {
          "output_type": "error",
          "ename": "ValueError",
          "evalue": "ignored",
          "traceback": [
            "\u001b[0;31m---------------------------------------------------------------------------\u001b[0m",
            "\u001b[0;31mValueError\u001b[0m                                Traceback (most recent call last)",
            "\u001b[0;32m<ipython-input-148-5f15418b3570>\u001b[0m in \u001b[0;36m<cell line: 1>\u001b[0;34m()\u001b[0m\n\u001b[0;32m----> 1\u001b[0;31m \u001b[0mmodel\u001b[0m\u001b[0;34m.\u001b[0m\u001b[0msummary\u001b[0m\u001b[0;34m(\u001b[0m\u001b[0;34m)\u001b[0m\u001b[0;34m\u001b[0m\u001b[0;34m\u001b[0m\u001b[0m\n\u001b[0m",
            "\u001b[0;32m/usr/local/lib/python3.10/dist-packages/keras/src/engine/training.py\u001b[0m in \u001b[0;36msummary\u001b[0;34m(self, line_length, positions, print_fn, expand_nested, show_trainable, layer_range)\u001b[0m\n\u001b[1;32m   3480\u001b[0m         \"\"\"\n\u001b[1;32m   3481\u001b[0m         \u001b[0;32mif\u001b[0m \u001b[0;32mnot\u001b[0m \u001b[0mself\u001b[0m\u001b[0;34m.\u001b[0m\u001b[0mbuilt\u001b[0m\u001b[0;34m:\u001b[0m\u001b[0;34m\u001b[0m\u001b[0;34m\u001b[0m\u001b[0m\n\u001b[0;32m-> 3482\u001b[0;31m             raise ValueError(\n\u001b[0m\u001b[1;32m   3483\u001b[0m                 \u001b[0;34m\"This model has not yet been built. \"\u001b[0m\u001b[0;34m\u001b[0m\u001b[0;34m\u001b[0m\u001b[0m\n\u001b[1;32m   3484\u001b[0m                 \u001b[0;34m\"Build the model first by calling `build()` or by calling \"\u001b[0m\u001b[0;34m\u001b[0m\u001b[0;34m\u001b[0m\u001b[0m\n",
            "\u001b[0;31mValueError\u001b[0m: This model has not yet been built. Build the model first by calling `build()` or by calling the model on a batch of data."
          ]
        }
      ]
    },
    {
      "cell_type": "code",
      "source": [
        "test = pd.read_csv('testFS.csv', sep = ',')"
      ],
      "metadata": {
        "id": "Mq4W0loCXE6r"
      },
      "execution_count": null,
      "outputs": []
    },
    {
      "cell_type": "code",
      "source": [
        "test = test.to_numpy()"
      ],
      "metadata": {
        "id": "_txiyvflXNAr"
      },
      "execution_count": null,
      "outputs": []
    },
    {
      "cell_type": "code",
      "source": [
        "test.shape"
      ],
      "metadata": {
        "colab": {
          "base_uri": "https://localhost:8080/"
        },
        "id": "Kuk4UUEdXShH",
        "outputId": "e33199ce-02da-42f8-da18-d6cd4e047bdc"
      },
      "execution_count": null,
      "outputs": [
        {
          "output_type": "execute_result",
          "data": {
            "text/plain": [
              "(18657, 36)"
            ]
          },
          "metadata": {},
          "execution_count": 38
        }
      ]
    },
    {
      "cell_type": "code",
      "source": [
        "Y = model.predict(test)"
      ],
      "metadata": {
        "colab": {
          "base_uri": "https://localhost:8080/"
        },
        "id": "Bb6YmrC_Xpll",
        "outputId": "b28b1715-b109-4182-f229-b0edbd400728"
      },
      "execution_count": null,
      "outputs": [
        {
          "output_type": "stream",
          "name": "stdout",
          "text": [
            "584/584 [==============================] - 1s 2ms/step\n"
          ]
        }
      ]
    },
    {
      "cell_type": "code",
      "source": [
        "Y"
      ],
      "metadata": {
        "colab": {
          "base_uri": "https://localhost:8080/"
        },
        "id": "cZzhtByoXvP-",
        "outputId": "9787b899-8bb6-4aea-95c2-421625d7d109"
      },
      "execution_count": null,
      "outputs": [
        {
          "output_type": "execute_result",
          "data": {
            "text/plain": [
              "array([[2004.2552],\n",
              "       [1997.7281],\n",
              "       [2003.0297],\n",
              "       ...,\n",
              "       [1994.2992],\n",
              "       [2002.2611],\n",
              "       [2001.8281]], dtype=float32)"
            ]
          },
          "metadata": {},
          "execution_count": 40
        }
      ]
    },
    {
      "cell_type": "code",
      "source": [
        "n = len(Y)\n",
        "Ids = list(range(1, n + 1))"
      ],
      "metadata": {
        "id": "33wAjFrmcuw9"
      },
      "execution_count": null,
      "outputs": []
    },
    {
      "cell_type": "code",
      "source": [
        "Y = Y.flatten()"
      ],
      "metadata": {
        "id": "ZPIZxlkSdc7-"
      },
      "execution_count": null,
      "outputs": []
    },
    {
      "cell_type": "code",
      "source": [
        "df = pd.DataFrame({'Id': Ids, 'y': Y})"
      ],
      "metadata": {
        "id": "WqnteQY-d1Pk"
      },
      "execution_count": null,
      "outputs": []
    },
    {
      "cell_type": "code",
      "source": [
        "csv_file_path = '/content/resultadosNN.csv'\n",
        "df.to_csv(csv_file_path, index=False)"
      ],
      "metadata": {
        "id": "cE6xEe7Xd9GF"
      },
      "execution_count": null,
      "outputs": []
    },
    {
      "cell_type": "code",
      "source": [
        "indices = \"20004 27910 46287 56236 27889 2110 34351 1149 63534 56917 27912 70100 6302 684 58650 27906 20833 27917 35504 24212 75247 2600 76361 66573 70098 65917 7742 44927 47553 62980 75249 36583 35867 68112 27892 253 46894 61005 42140 51351 36562 51356 24521 65953 44282 42132 17738 70738 1749 75660 18682 3005 16918 63321 58637 73061 33480 18710 51664 66356 42405 38623 74106 70103 34536 46010 35392 26412 24317 34772 14882 6309 24484 51798 14627 69898 65962 73172 21251 6157 39791 36565 42157 65956 64524 40261 19934 63322 19880 9078 42147 76339 37982 70101 76366 25559 14580 55418 42144 53569 34527 63622 9581 36572 36582 65944 36678 3475 54001 65943 27891 72784 51357 37668 52880 43019 24472 76252 36564 76341 53885 27880 56335 62673 15814 21033 54010 54004 50018 7152 9238 52196 13732 27890 27473 36563 37890 2302 73044 28783 49555 38917 24831 59776 51269 31397 60434 58816 48814 35267 5535 27015 45624 54539 48531 13737 34827 63660 15046 19933 19744 67070 11873 62730 41961 24488 52949 7965 31760 70097 2604 35858 19341 44811 26283 39484 64993 42127 54704 32961 36764 20787 5539 38686 9763 33746 15572 37682 36717 38417 38721 51950 7023 51669 7010 29697 48866 6337 2305 31801 3422 42139 13898 29367 46144 34831 36581 49473 9087 62439 18140 50011 52185 45619 75243 50470 66540 54257 49195 52194 65981 36138 5349 73727 18195 63809 40822 55483 27881 62442 54787 4402 55434 24510 67758 34826 54254 57807 34315 36578 50155 31795 68421 2971 60112 73723 60164 38227 4242 75285 24477 55424 32973 59816 53869 66572 46576 18919 52752 65644 65951 3016 28247 74113 17542 75259 20088 27897 27909 18689 20255 25624 46844 51125 41027 36585 55422 65047 55417 61466 27207 6395 54691 51410 361 70102 57601 9095 24578 18562 67006 75267 70099 49576 60400 36846 37396 45626 5571 26415 76353 75246 20160 26414 27193 7145 1527 49220 43648 56748 27614 18149 11852 50998 42520 41006 12173 7964 65942 35017 42155 72315 11004 34825 27911 36714 62678 11415 20005 6160 40824 19884 61205 75155 62608 43642 67769 58933 9023 19292 73726 76174 36589 76166 42161 42131 12682 70618 37966 60433 26288 44187 38466 51194 44837 43534 62123 71242 58836 360 33193 71044 15817 63318 73730 14381 3015 50327 16709 44810 1395 45520 27902 135 53992 74111 20506 37210 51877 27498 13735 70623 51464 35561 57808 33990 55472 47437 66566 33716 39068 15994 11849 61661 14377 5464 16691 16715 26286 3370 19932 77466 58758 51363 1483 10863 35868 44842 22558 53570 20089 44836 51352 22785 49900 9022 50081 46496 6696 14683 37166 71104 67797 17209 5347 45487 67482 42130 49578 16723 11881 68563 16922 1643 49906 19638 31496 60549 6335 32970 12888 34320 38258 8991 46580 44821 37934 40882 65889 77765 58649 34323 72674 55809 67720 44695 51593 63310 23147 16853 6552 10113 15693 41962 34305 49570 52134 4477 56759 47369 43205 32156 53985 33409 4407 77464 77465 70615 76295 54013 2181 15477 38488 65200 63297 54788 9012 50588 54711 66349 26427 65588 1985 44812 16851 42057 8282 72309 42642 55595 43988 42647 12178 44929 27975 45189 28448 38408 42133 29679 46856 36847 27877 20467 53825 42657 2743 75812 50061 9224 61017 7461 43202 7141 10550 27511 62130 74115 43147 16931 39774 447 3021 37675 7949 51765 18443 34836 44909 75148 63401 72986 6543 6646 63325 42149 30834 58647 31500 31714 57599 22608 43199 74938 9643 75149 20267 27262 58631 38487 9971 51901 70925 75628 37099 39067 36030 7746 26290 70453 37178 37366 19688 27507 34829 72998 36600 19553 54008 42137 75810 51195 36597 20082 62039 53715 24481 37801 4871 62666 24829 75260 25318 36559 43125 31638 65959 33484 77009 30460 53887 68166 12811 20621 26426 7148 54545 11420 9962 15051 34332 74112 63324 67756 53576 18706 20826 35854 52882 19093 56761 63413 30828 359 14378 27646 14246 40990 42515 75144 55419 23100 62131 29056 61512 27914 64390 43635 13285 4333 68851 9420 41054 53827 3376 49846 54537 40421 9764 72780 22411 62041 6073 36845 4308 48498 51761 5529 33090 16734 48191 54878 45199 62444 10541 5024 36579 45632 1265 40973 49806 7126 68938 8719 8365 62040 26408 43639 34858 22123 42129 65321 46826 6156 16930 29361 23887 12796 60446 62676 43201 67930 6821 56692 17995 10199 37375 19895 56685 14863 4311 38724 61787 63856 74528 26432 56543 33091 41046 12288 17128 32097 77467 51879 58941 18683 49993 6551 12662 65650 31772 41032 77002 71892 51270 41043 12076 63623 31898 16173 12067 5416 41018 59062 36566 25043 69306 26289 3022 27901 45924 11889 19056 14379 64823 40755 45179 75804 60014 18346 4309 77599 12929 1624 61817 67757 12699 10047 42516 10068 55460 26403 2993 74114 57004 49579 58932 65050 12650 64830 43198 43211 48807 23579 43197 71603 6785 75726 65948 40989 1308 15717 43195 13554 67771 57681 43409 77777 24834 56999 67933 47865 54974 36037 16921 65954 4232 6818 47344 46646 73584 36561 53890 36411 27904 41513 8614 27512 47442 6161 5577 58937 3582 37535 72964 58936 52059 31178 57815 52886 49789 19164 65977 33473 63769 72225 74188 53588 12832 12670 76472 19273 367 75575 45802 20007 58985 42151 36584 6556 21023 44846 37686 30833 35018 60114 41030 59777 16707 43229 62127 3165 4233 24698 48198 22557 43165 30463 36131 12877 10677 67353 33413 19033 48777 31781 36602 70907 63859 76243\"\n",
        "indices = indices.replace(' ', ',')\n",
        "indices = indices.split(',')\n",
        "\n",
        "dfIndices = pd.DataFrame({\"Indice\":indices})"
      ],
      "metadata": {
        "id": "VXoCI0wlirnu"
      },
      "execution_count": null,
      "outputs": []
    },
    {
      "cell_type": "code",
      "source": [
        "csv_file_path = '/content/indices.csv'\n",
        "dfIndices.to_csv(csv_file_path, index=False)"
      ],
      "metadata": {
        "id": "WBq_P-uHrHdI"
      },
      "execution_count": null,
      "outputs": []
    }
  ]
}