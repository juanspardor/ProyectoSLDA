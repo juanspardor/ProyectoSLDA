{
 "cells": [
  {
   "cell_type": "code",
   "execution_count": null,
   "metadata": {},
   "outputs": [],
   "source": [
    "import pandas as pd\n",
    "\n",
    "import matplotlib.pyplot as plt\n",
    "import seaborn as sns"
   ]
  },
  {
   "cell_type": "code",
   "execution_count": null,
   "metadata": {},
   "outputs": [],
   "source": [
    "file_path = 'Regression/trainReg.txt'\n",
    "\n",
    "try:\n",
    "    df_tracks = pd.read_csv(file_path, delimiter=',')\n",
    "    print(df.head())\n",
    "except FileNotFoundError:\n",
    "    print(\"File not found. Please provide the correct file path.\")\n"
   ]
  },
  {
   "cell_type": "code",
   "execution_count": null,
   "metadata": {},
   "outputs": [],
   "source": [
    "df_tracks.head(5)"
   ]
  },
  {
   "cell_type": "code",
   "execution_count": null,
   "metadata": {},
   "outputs": [],
   "source": [
    "df_tracks.shape"
   ]
  },
  {
   "cell_type": "code",
   "execution_count": null,
   "metadata": {},
   "outputs": [],
   "source": [
    "for column in df_tracks.columns:\n",
    "    print(f\"{column}: {df_tracks[column].dtype}\")"
   ]
  },
  {
   "cell_type": "code",
   "execution_count": null,
   "metadata": {},
   "outputs": [],
   "source": [
    "df_tracks.describe()"
   ]
  },
  {
   "cell_type": "code",
   "execution_count": null,
   "metadata": {},
   "outputs": [],
   "source": [
    "df_tracks.columns"
   ]
  },
  {
   "cell_type": "code",
   "execution_count": null,
   "metadata": {},
   "outputs": [],
   "source": [
    "(df_tracks.isnull().sum() / df_tracks.shape[0]).sort_values(ascending = False)"
   ]
  },
  {
   "cell_type": "code",
   "execution_count": null,
   "metadata": {},
   "outputs": [],
   "source": [
    "column_to_plot = 'V1'\n",
    "\n",
    "# Creating a countplot using seaborn\n",
    "plt.figure(figsize=(20, 8))\n",
    "sns.countplot(data=df_tracks, x=column_to_plot)\n",
    "plt.title(f'Bar Graph of Year of Release')\n",
    "plt.xlabel(column_to_plot)\n",
    "plt.ylabel('Count')\n",
    "plt.xticks(rotation=45)  # Rotate x-axis labels for better visibility if needed\n",
    "plt.show()"
   ]
  },
  {
   "cell_type": "code",
   "execution_count": null,
   "metadata": {},
   "outputs": [],
   "source": [
    "df_tracks_decades = df_tracks\n",
    "\n",
    "df_tracks_decades['Decade'] = (df_tracks_decades['V1'] // 10) * 10\n",
    "\n",
    "# Grouping by decades and counting appearances\n",
    "decade_counts = df_tracks_decades['Decade'].value_counts().sort_index()\n",
    "\n",
    "# Calculate percentage of appearances by decade\n",
    "total_appearances = decade_counts.sum()\n",
    "decade_percentages = (decade_counts / total_appearances) * 100\n",
    "\n",
    "# Plotting a bar graph for number of appearances and percentage by decade\n",
    "fig, ax1 = plt.subplots(figsize=(8, 6))\n",
    "\n",
    "# Plotting count of appearances\n",
    "decade_counts.plot(kind='bar', color='blue', ax=ax1)\n",
    "ax1.set_ylabel('Count', color='blue')\n",
    "ax1.tick_params(axis='y', labelcolor='blue')\n",
    "\n",
    "# Creating a secondary y-axis for percentage\n",
    "ax2 = ax1.twinx()\n",
    "ax2.plot(decade_percentages.index, decade_percentages.values, marker='o', color='red', linestyle='-', linewidth=2)\n",
    "ax2.set_ylabel('Percentage (%)', color='red')\n",
    "ax2.tick_params(axis='y', labelcolor='red')\n",
    "\n",
    "# Setting labels and title\n",
    "plt.title('Number of Songs and Percentage by Decade')\n",
    "plt.xlabel('Decade')\n",
    "\n",
    "# Show plot\n",
    "plt.xticks(rotation=45)  # Rotate x-axis labels for better visibility if needed\n",
    "plt.tight_layout()\n",
    "plt.show()\n"
   ]
  },
  {
   "cell_type": "code",
   "execution_count": null,
   "metadata": {},
   "outputs": [],
   "source": [
    "sns.pairplot(df_tracks)\n",
    "plt.show()"
   ]
  },
  {
   "cell_type": "code",
   "execution_count": null,
   "metadata": {},
   "outputs": [],
   "source": [
    "len(df_tracks.columns)"
   ]
  },
  {
   "cell_type": "code",
   "execution_count": null,
   "metadata": {},
   "outputs": [],
   "source": [
    "sns.heatmap(df_tracks, annot=True, cmap='coolwarm', fmt='.2f')\n",
    "plt.title('Matrix Heatmap')\n",
    "plt.xlabel('Variables')\n",
    "plt.ylabel('Variables')\n",
    "plt.show()"
   ]
  },
  {
   "cell_type": "code",
   "execution_count": null,
   "metadata": {},
   "outputs": [],
   "source": [
    "numerical_columns = df_tracks.select_dtypes(include='number').columns.tolist()\n",
    "\n",
    "# Visualizing numerical columns against FRACASO using scatterplots\n",
    "for column in numerical_columns:\n",
    "    if column != 'V1':\n",
    "        plt.figure()\n",
    "        sns.scatterplot(data=df_tracks, x=column, y='V1')\n",
    "        plt.title(f'{column} vs V1')\n",
    "        plt.xlabel(column)\n",
    "        plt.ylabel('V1')\n",
    "        plt.show()"
   ]
  },
  {
   "cell_type": "code",
   "execution_count": null,
   "metadata": {},
   "outputs": [],
   "source": [
    "from sklearn.decomposition import PCA"
   ]
  },
  {
   "cell_type": "code",
   "execution_count": null,
   "metadata": {},
   "outputs": [],
   "source": [
    "df_para_pc = df_tracks\n",
    "p = PCA(n_components = 0.6)\n",
    "pc = p.fit_transform(df_para_pc)\n",
    "df_f= pd.DataFrame(data = pc, columns = [\"PC\" + str(i+1) for i in range(len(p.components_))])\n",
    "\n",
    "l = p.components_\n",
    "num_pc = p.n_features_\n",
    "lista_pc = [\"PC\"+str(i) for i in list(range(1, num_pc+1))]\n",
    "l_df = pd.DataFrame.from_dict(dict(zip(lista_pc, l)))\n",
    "l_df['variable'] = df_para_pc.columns.values\n",
    "l_df = l_df.set_index('variable')\n",
    "\n",
    "sns.set(rc={\"figure.figsize\":(30, 30)})\n",
    "#ax = sns.heatmap(l_df, annot=True, cmap='Spectral')\n",
    "ax = sns.heatmap(l_df, annot=True, cmap='Spectral', fmt='.2f', annot_kws={\"size\": 8})  # Adjust annotation font size\n",
    "\n",
    "plt.title(\"Valores propios\")\n",
    "plt.xlabel(\"Componente Principal\")\n",
    "plt.ylabel(\"Variable\")\n",
    "plt.show()"
   ]
  }
 ],
 "metadata": {
  "kernelspec": {
   "display_name": "Python 3",
   "language": "python",
   "name": "python3"
  },
  "language_info": {
   "codemirror_mode": {
    "name": "ipython",
    "version": 3
   },
   "file_extension": ".py",
   "mimetype": "text/x-python",
   "name": "python",
   "nbconvert_exporter": "python",
   "pygments_lexer": "ipython3",
   "version": "3.11.4"
  }
 },
 "nbformat": 4,
 "nbformat_minor": 2
}
