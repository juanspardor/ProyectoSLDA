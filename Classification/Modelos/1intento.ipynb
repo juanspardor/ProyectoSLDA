{
 "cells": [
  {
   "cell_type": "code",
   "execution_count": 2,
   "metadata": {},
   "outputs": [],
   "source": [
    "import pandas as pd\n",
    "import numpy as np\n",
    "import matplotlib.pylab as plt\n",
    "import seaborn as sns\n",
    "plt.style.use('ggplot')\n",
    "import time\n",
    "import matplotlib.pyplot as plt\n",
    "from sklearn.discriminant_analysis import LinearDiscriminantAnalysis\n",
    "from sklearn.model_selection import train_test_split\n",
    "from sklearn.metrics import roc_curve, auc, accuracy_score\n",
    "from sklearn.datasets import make_classification\n",
    "from sklearn.preprocessing import label_binarize\n",
    "from sklearn.multiclass import OneVsRestClassifier\n"
   ]
  },
  {
   "cell_type": "code",
   "execution_count": 2,
   "metadata": {},
   "outputs": [],
   "source": [
    "varBasuras=['B11','B13','B14','B21','B23','B24','B46','B48',\n",
    "            'B51','B52','B53','B54','B61','B62','B63','B64',\n",
    "            'B65','B66','B67','B611','B85']"
   ]
  },
  {
   "cell_type": "code",
   "execution_count": 3,
   "metadata": {},
   "outputs": [
    {
     "name": "stdout",
     "output_type": "stream",
     "text": [
      "(1798, 42) (545, 41)\n"
     ]
    }
   ],
   "source": [
    "train=pd.read_csv('TrainCsv.csv')\n",
    "test=pd.read_csv('TestCsv.csv')\n",
    "print(train.shape,test.shape)"
   ]
  },
  {
   "cell_type": "code",
   "execution_count": 5,
   "metadata": {},
   "outputs": [
    {
     "name": "stdout",
     "output_type": "stream",
     "text": [
      "Index(['CODIGO_EMPRESA', 'B11', 'B12', 'B13', 'B14', 'B21', 'B22', 'B23',\n",
      "       'B24', 'B31', 'B32', 'B41', 'B42', 'B43', 'B44', 'B45', 'B46', 'B47',\n",
      "       'B48', 'B51', 'B52', 'B53', 'B54', 'B61', 'B62', 'B63', 'B64', 'B65',\n",
      "       'B66', 'B67', 'B68', 'B69', 'B610', 'B611', 'B612', 'B613', 'B81',\n",
      "       'B82', 'B83', 'B84', 'B85'],\n",
      "      dtype='object')\n"
     ]
    }
   ],
   "source": [
    "print(test.columns)"
   ]
  },
  {
   "cell_type": "code",
   "execution_count": 5,
   "metadata": {},
   "outputs": [
    {
     "name": "stdout",
     "output_type": "stream",
     "text": [
      "0    1728\n",
      "1      70\n",
      "Name: FRACASO, dtype: int64\n"
     ]
    }
   ],
   "source": [
    "print(train['FRACASO'].value_counts())"
   ]
  },
  {
   "cell_type": "code",
   "execution_count": 6,
   "metadata": {},
   "outputs": [
    {
     "data": {
      "text/html": [
       "<div>\n",
       "<style scoped>\n",
       "    .dataframe tbody tr th:only-of-type {\n",
       "        vertical-align: middle;\n",
       "    }\n",
       "\n",
       "    .dataframe tbody tr th {\n",
       "        vertical-align: top;\n",
       "    }\n",
       "\n",
       "    .dataframe thead th {\n",
       "        text-align: right;\n",
       "    }\n",
       "</style>\n",
       "<table border=\"1\" class=\"dataframe\">\n",
       "  <thead>\n",
       "    <tr style=\"text-align: right;\">\n",
       "      <th></th>\n",
       "      <th>B12</th>\n",
       "      <th>B13</th>\n",
       "      <th>B14</th>\n",
       "      <th>B21</th>\n",
       "      <th>B22</th>\n",
       "      <th>B23</th>\n",
       "      <th>B24</th>\n",
       "      <th>B31</th>\n",
       "      <th>B32</th>\n",
       "      <th>B41</th>\n",
       "      <th>...</th>\n",
       "      <th>B69</th>\n",
       "      <th>B610</th>\n",
       "      <th>B611</th>\n",
       "      <th>B612</th>\n",
       "      <th>B613</th>\n",
       "      <th>B81</th>\n",
       "      <th>B82</th>\n",
       "      <th>B83</th>\n",
       "      <th>B84</th>\n",
       "      <th>B85</th>\n",
       "    </tr>\n",
       "  </thead>\n",
       "  <tbody>\n",
       "    <tr>\n",
       "      <th>0</th>\n",
       "      <td>-0.014149</td>\n",
       "      <td>-0.019776</td>\n",
       "      <td>-0.049727</td>\n",
       "      <td>0.051358</td>\n",
       "      <td>0.054788</td>\n",
       "      <td>0.076576</td>\n",
       "      <td>0.192552</td>\n",
       "      <td>0.097446</td>\n",
       "      <td>0.187087</td>\n",
       "      <td>0.121726</td>\n",
       "      <td>...</td>\n",
       "      <td>0.297489</td>\n",
       "      <td>1.493572</td>\n",
       "      <td>1.255421</td>\n",
       "      <td>0.399751</td>\n",
       "      <td>0.016188</td>\n",
       "      <td>0.060745</td>\n",
       "      <td>0.177370</td>\n",
       "      <td>0.017284</td>\n",
       "      <td>0.016202</td>\n",
       "      <td>0.315473</td>\n",
       "    </tr>\n",
       "    <tr>\n",
       "      <th>1</th>\n",
       "      <td>-0.015651</td>\n",
       "      <td>-0.035168</td>\n",
       "      <td>-0.028201</td>\n",
       "      <td>0.014865</td>\n",
       "      <td>0.036778</td>\n",
       "      <td>0.082643</td>\n",
       "      <td>0.066270</td>\n",
       "      <td>0.554977</td>\n",
       "      <td>0.000000</td>\n",
       "      <td>0.064919</td>\n",
       "      <td>...</td>\n",
       "      <td>0.130267</td>\n",
       "      <td>1.714751</td>\n",
       "      <td>0.601136</td>\n",
       "      <td>0.102969</td>\n",
       "      <td>-0.098457</td>\n",
       "      <td>0.000052</td>\n",
       "      <td>0.000052</td>\n",
       "      <td>0.000029</td>\n",
       "      <td>0.000012</td>\n",
       "      <td>0.000781</td>\n",
       "    </tr>\n",
       "    <tr>\n",
       "      <th>2</th>\n",
       "      <td>0.017104</td>\n",
       "      <td>0.041653</td>\n",
       "      <td>0.029021</td>\n",
       "      <td>0.034651</td>\n",
       "      <td>0.035834</td>\n",
       "      <td>0.087266</td>\n",
       "      <td>0.060801</td>\n",
       "      <td>0.589369</td>\n",
       "      <td>0.000000</td>\n",
       "      <td>0.036412</td>\n",
       "      <td>...</td>\n",
       "      <td>0.071542</td>\n",
       "      <td>1.896541</td>\n",
       "      <td>0.738551</td>\n",
       "      <td>0.374806</td>\n",
       "      <td>-0.117346</td>\n",
       "      <td>0.025741</td>\n",
       "      <td>0.025741</td>\n",
       "      <td>0.015171</td>\n",
       "      <td>0.014670</td>\n",
       "      <td>0.423366</td>\n",
       "    </tr>\n",
       "    <tr>\n",
       "      <th>3</th>\n",
       "      <td>-0.159556</td>\n",
       "      <td>-0.383810</td>\n",
       "      <td>-0.273080</td>\n",
       "      <td>0.011525</td>\n",
       "      <td>0.032684</td>\n",
       "      <td>0.078621</td>\n",
       "      <td>0.055938</td>\n",
       "      <td>0.500754</td>\n",
       "      <td>0.083530</td>\n",
       "      <td>0.312465</td>\n",
       "      <td>...</td>\n",
       "      <td>0.440071</td>\n",
       "      <td>1.169690</td>\n",
       "      <td>0.464437</td>\n",
       "      <td>0.275579</td>\n",
       "      <td>0.025202</td>\n",
       "      <td>0.006529</td>\n",
       "      <td>0.007618</td>\n",
       "      <td>0.003815</td>\n",
       "      <td>0.001345</td>\n",
       "      <td>0.116712</td>\n",
       "    </tr>\n",
       "    <tr>\n",
       "      <th>4</th>\n",
       "      <td>-0.036464</td>\n",
       "      <td>-0.107610</td>\n",
       "      <td>-0.055153</td>\n",
       "      <td>-0.471426</td>\n",
       "      <td>-0.879894</td>\n",
       "      <td>-2.596663</td>\n",
       "      <td>-1.330865</td>\n",
       "      <td>0.661144</td>\n",
       "      <td>0.000000</td>\n",
       "      <td>0.006681</td>\n",
       "      <td>...</td>\n",
       "      <td>0.015802</td>\n",
       "      <td>2.110823</td>\n",
       "      <td>0.547137</td>\n",
       "      <td>0.025350</td>\n",
       "      <td>-0.201182</td>\n",
       "      <td>0.146241</td>\n",
       "      <td>0.146241</td>\n",
       "      <td>0.096686</td>\n",
       "      <td>0.051802</td>\n",
       "      <td>-0.109884</td>\n",
       "    </tr>\n",
       "  </tbody>\n",
       "</table>\n",
       "<p>5 rows × 39 columns</p>\n",
       "</div>"
      ],
      "text/plain": [
       "        B12       B13       B14       B21       B22       B23       B24  \\\n",
       "0 -0.014149 -0.019776 -0.049727  0.051358  0.054788  0.076576  0.192552   \n",
       "1 -0.015651 -0.035168 -0.028201  0.014865  0.036778  0.082643  0.066270   \n",
       "2  0.017104  0.041653  0.029021  0.034651  0.035834  0.087266  0.060801   \n",
       "3 -0.159556 -0.383810 -0.273080  0.011525  0.032684  0.078621  0.055938   \n",
       "4 -0.036464 -0.107610 -0.055153 -0.471426 -0.879894 -2.596663 -1.330865   \n",
       "\n",
       "        B31       B32       B41  ...       B69      B610      B611      B612  \\\n",
       "0  0.097446  0.187087  0.121726  ...  0.297489  1.493572  1.255421  0.399751   \n",
       "1  0.554977  0.000000  0.064919  ...  0.130267  1.714751  0.601136  0.102969   \n",
       "2  0.589369  0.000000  0.036412  ...  0.071542  1.896541  0.738551  0.374806   \n",
       "3  0.500754  0.083530  0.312465  ...  0.440071  1.169690  0.464437  0.275579   \n",
       "4  0.661144  0.000000  0.006681  ...  0.015802  2.110823  0.547137  0.025350   \n",
       "\n",
       "       B613       B81       B82       B83       B84       B85  \n",
       "0  0.016188  0.060745  0.177370  0.017284  0.016202  0.315473  \n",
       "1 -0.098457  0.000052  0.000052  0.000029  0.000012  0.000781  \n",
       "2 -0.117346  0.025741  0.025741  0.015171  0.014670  0.423366  \n",
       "3  0.025202  0.006529  0.007618  0.003815  0.001345  0.116712  \n",
       "4 -0.201182  0.146241  0.146241  0.096686  0.051802 -0.109884  \n",
       "\n",
       "[5 rows x 39 columns]"
      ]
     },
     "execution_count": 6,
     "metadata": {},
     "output_type": "execute_result"
    }
   ],
   "source": [
    "\n",
    "y=train['FRACASO']\n",
    "X=train.iloc[:,3:]\n",
    "\n",
    "X_train, X_test, y_train, y_test = train_test_split(X, y, test_size=0.15, random_state=42)\n",
    "X.head()"
   ]
  },
  {
   "cell_type": "code",
   "execution_count": 7,
   "metadata": {},
   "outputs": [
    {
     "data": {
      "text/html": [
       "<style>#sk-container-id-1 {color: black;background-color: white;}#sk-container-id-1 pre{padding: 0;}#sk-container-id-1 div.sk-toggleable {background-color: white;}#sk-container-id-1 label.sk-toggleable__label {cursor: pointer;display: block;width: 100%;margin-bottom: 0;padding: 0.3em;box-sizing: border-box;text-align: center;}#sk-container-id-1 label.sk-toggleable__label-arrow:before {content: \"▸\";float: left;margin-right: 0.25em;color: #696969;}#sk-container-id-1 label.sk-toggleable__label-arrow:hover:before {color: black;}#sk-container-id-1 div.sk-estimator:hover label.sk-toggleable__label-arrow:before {color: black;}#sk-container-id-1 div.sk-toggleable__content {max-height: 0;max-width: 0;overflow: hidden;text-align: left;background-color: #f0f8ff;}#sk-container-id-1 div.sk-toggleable__content pre {margin: 0.2em;color: black;border-radius: 0.25em;background-color: #f0f8ff;}#sk-container-id-1 input.sk-toggleable__control:checked~div.sk-toggleable__content {max-height: 200px;max-width: 100%;overflow: auto;}#sk-container-id-1 input.sk-toggleable__control:checked~label.sk-toggleable__label-arrow:before {content: \"▾\";}#sk-container-id-1 div.sk-estimator input.sk-toggleable__control:checked~label.sk-toggleable__label {background-color: #d4ebff;}#sk-container-id-1 div.sk-label input.sk-toggleable__control:checked~label.sk-toggleable__label {background-color: #d4ebff;}#sk-container-id-1 input.sk-hidden--visually {border: 0;clip: rect(1px 1px 1px 1px);clip: rect(1px, 1px, 1px, 1px);height: 1px;margin: -1px;overflow: hidden;padding: 0;position: absolute;width: 1px;}#sk-container-id-1 div.sk-estimator {font-family: monospace;background-color: #f0f8ff;border: 1px dotted black;border-radius: 0.25em;box-sizing: border-box;margin-bottom: 0.5em;}#sk-container-id-1 div.sk-estimator:hover {background-color: #d4ebff;}#sk-container-id-1 div.sk-parallel-item::after {content: \"\";width: 100%;border-bottom: 1px solid gray;flex-grow: 1;}#sk-container-id-1 div.sk-label:hover label.sk-toggleable__label {background-color: #d4ebff;}#sk-container-id-1 div.sk-serial::before {content: \"\";position: absolute;border-left: 1px solid gray;box-sizing: border-box;top: 0;bottom: 0;left: 50%;z-index: 0;}#sk-container-id-1 div.sk-serial {display: flex;flex-direction: column;align-items: center;background-color: white;padding-right: 0.2em;padding-left: 0.2em;position: relative;}#sk-container-id-1 div.sk-item {position: relative;z-index: 1;}#sk-container-id-1 div.sk-parallel {display: flex;align-items: stretch;justify-content: center;background-color: white;position: relative;}#sk-container-id-1 div.sk-item::before, #sk-container-id-1 div.sk-parallel-item::before {content: \"\";position: absolute;border-left: 1px solid gray;box-sizing: border-box;top: 0;bottom: 0;left: 50%;z-index: -1;}#sk-container-id-1 div.sk-parallel-item {display: flex;flex-direction: column;z-index: 1;position: relative;background-color: white;}#sk-container-id-1 div.sk-parallel-item:first-child::after {align-self: flex-end;width: 50%;}#sk-container-id-1 div.sk-parallel-item:last-child::after {align-self: flex-start;width: 50%;}#sk-container-id-1 div.sk-parallel-item:only-child::after {width: 0;}#sk-container-id-1 div.sk-dashed-wrapped {border: 1px dashed gray;margin: 0 0.4em 0.5em 0.4em;box-sizing: border-box;padding-bottom: 0.4em;background-color: white;}#sk-container-id-1 div.sk-label label {font-family: monospace;font-weight: bold;display: inline-block;line-height: 1.2em;}#sk-container-id-1 div.sk-label-container {text-align: center;}#sk-container-id-1 div.sk-container {/* jupyter's `normalize.less` sets `[hidden] { display: none; }` but bootstrap.min.css set `[hidden] { display: none !important; }` so we also need the `!important` here to be able to override the default hidden behavior on the sphinx rendered scikit-learn.org. See: https://github.com/scikit-learn/scikit-learn/issues/21755 */display: inline-block !important;position: relative;}#sk-container-id-1 div.sk-text-repr-fallback {display: none;}</style><div id=\"sk-container-id-1\" class=\"sk-top-container\"><div class=\"sk-text-repr-fallback\"><pre>LinearDiscriminantAnalysis()</pre><b>In a Jupyter environment, please rerun this cell to show the HTML representation or trust the notebook. <br />On GitHub, the HTML representation is unable to render, please try loading this page with nbviewer.org.</b></div><div class=\"sk-container\" hidden><div class=\"sk-item\"><div class=\"sk-estimator sk-toggleable\"><input class=\"sk-toggleable__control sk-hidden--visually\" id=\"sk-estimator-id-1\" type=\"checkbox\" checked><label for=\"sk-estimator-id-1\" class=\"sk-toggleable__label sk-toggleable__label-arrow\">LinearDiscriminantAnalysis</label><div class=\"sk-toggleable__content\"><pre>LinearDiscriminantAnalysis()</pre></div></div></div></div></div>"
      ],
      "text/plain": [
       "LinearDiscriminantAnalysis()"
      ]
     },
     "execution_count": 7,
     "metadata": {},
     "output_type": "execute_result"
    }
   ],
   "source": [
    "lda=LinearDiscriminantAnalysis()\n",
    "lda.fit(X_train,y_train)\n"
   ]
  },
  {
   "cell_type": "code",
   "execution_count": 8,
   "metadata": {},
   "outputs": [
    {
     "data": {
      "image/png": "[encoded data removed]",
      "text/plain": [
       "<Figure size 800x600 with 1 Axes>"
      ]
     },
     "metadata": {},
     "output_type": "display_data"
    }
   ],
   "source": [
    "# Transform the training data\n",
    "X_train_lda = lda.transform(X_train)\n",
    "\n",
    "# Transform the test data\n",
    "X_test_lda = lda.transform(X_test)\n",
    "\n",
    "# Predict on the test set\n",
    "y_scores = lda.decision_function(X_test)\n",
    "\n",
    "# Calculate the ROC curve\n",
    "fpr, tpr, thresholds = roc_curve(y_test, y_scores)\n",
    "\n",
    "# Calculate the AUC\n",
    "roc_auc = auc(fpr, tpr)\n",
    "\n",
    "# Plot the ROC curve\n",
    "plt.figure(figsize=(8, 6))\n",
    "plt.plot(fpr, tpr, color='darkorange', lw=2, label=f'AUC = {roc_auc:.2f}')\n",
    "plt.plot([0, 1], [0, 1], color='navy', lw=2, linestyle='--')\n",
    "plt.xlabel('False Positive Rate')\n",
    "plt.ylabel('True Positive Rate')\n",
    "plt.title('Receiver Operating Characteristic (ROC) Curve')\n",
    "plt.legend(loc='lower right')\n",
    "plt.show()\n"
   ]
  },
  {
   "cell_type": "code",
   "execution_count": 9,
   "metadata": {},
   "outputs": [],
   "source": [
    "probs=lda.predict_proba(X_test)"
   ]
  },
  {
   "cell_type": "code",
   "execution_count": 42,
   "metadata": {},
   "outputs": [
    {
     "data": {
      "text/plain": [
       "array([ -6.51942754,  -9.43698849,  -9.2264197 ,  -5.36667236,\n",
       "        -6.78336117,  -0.58294021,  -7.2742754 ,  -6.88324326,\n",
       "        -8.4393011 ,  -7.52476552, -12.55558018,  -8.26097853,\n",
       "        -4.42730307,  -7.76939875,  46.58489754,  -7.20315039,\n",
       "        -5.05076907,  -8.65798155,  -3.05563392,  -8.14966603,\n",
       "        -6.60292455,  -4.38954168,  -8.14871603,  -6.8616899 ,\n",
       "        -6.03421678,  -3.59838723,  -7.74441406,  -7.23806155,\n",
       "        -9.44703747,  -7.06010116,  -6.62374134,  -7.52686044,\n",
       "        -7.21141969,  -6.63230973,  -9.36165297,  -7.36725792,\n",
       "        -5.92960986,  -6.49655146,  -2.85252542,  -7.08836531,\n",
       "        -7.22084948,  -5.73647923,  -8.54754219,  -5.16944723,\n",
       "        -6.46934127,  -7.94553256,  -8.87212699,  -6.90009472,\n",
       "         4.6027549 ,  -8.57249287,  -8.08570217,  -5.26955474,\n",
       "        -8.09068723,  -6.74776878, -12.01532056,  -8.73062539,\n",
       "        -6.44090113,  -6.16841679,  14.23274445,  -7.36943215,\n",
       "        -6.88366678,  -7.90762992,  -7.78731111,  -7.64490061,\n",
       "        -7.55628051,  -8.04739564,  -4.44730754,  -5.8184692 ,\n",
       "        -7.19750786,  -8.48214586,  -7.87618561,  -6.00104147,\n",
       "        -8.05463108, -18.49974195,  -9.24688268,  -8.75657922,\n",
       "        -7.76831959,  -3.62124768,  -5.3608064 ,  -7.67885173,\n",
       "        -9.93829011,  -8.19822856,  -7.4666569 ,  -8.18183062,\n",
       "        -7.48007811,  -2.50034939,  -6.42002423, -11.12469397,\n",
       "        -7.66128605,   7.51263028,  -7.88514391,  -8.28921917,\n",
       "        -6.87963714,  -7.00682717,  -7.47847439,  -7.65422472,\n",
       "        -8.1184069 ,  -6.78371972,  -8.32335586,  -6.1421208 ,\n",
       "        -7.14497578,  -7.26120152,  -8.54565824,  -6.88345397,\n",
       "        -7.57605634,  -2.64003325,  -6.60607743,  -7.4657238 ,\n",
       "        -7.65021882,  -6.90516569,  -5.82724569,  -7.23901151,\n",
       "        -6.6332527 ,  -6.87182716,  -8.27171399,  -7.73095891,\n",
       "        -6.85496568,  -6.97903991,  -5.9408091 ,  -7.45784736,\n",
       "        -7.7425389 ,  -7.3961804 ,  -4.51626748,  -7.46100248,\n",
       "        -6.63044704,  -7.49117888,  -7.81965574,  -7.57495842,\n",
       "        -7.27012613,  -6.52370193,  -8.04301976,  -6.6482449 ,\n",
       "        -8.8407147 ,  -9.02085294,  -8.64731816,  -6.6323745 ,\n",
       "        -9.34961849,  -6.95625555,  12.36065924,  -9.49714956,\n",
       "         9.70712342,  -9.03135204,  -6.85823756,  -2.1823219 ,\n",
       "        -7.22332971,  -3.39218822,  -8.25731908,  -6.28340995,\n",
       "        -7.29880261,  -8.11839496,  -9.1507214 ,  -6.37559202,\n",
       "        -5.87910849,  -5.68232392,  -7.41831895,  -8.59922042,\n",
       "        -7.87488302,  -7.92747959,  -4.1098713 ,  -8.32220149,\n",
       "        -7.30827454,  -7.5304771 ,  -2.07160136,  -6.67205224,\n",
       "        -6.97625311,  -7.15801207,  -5.34349413,  -6.22474794,\n",
       "        -6.46240864,  -1.72090233,  -7.95110233,  -7.33517109,\n",
       "        -6.44465386,  -5.89442876,  -7.2071218 ,  -5.06511245,\n",
       "        -5.75423609,  -6.38572433,  -6.80682133,  -7.37623052,\n",
       "        -5.81996061,  -6.40126666,  -6.40174541,  -7.76178687,\n",
       "        -8.54465605,  -7.54844906,  -8.863081  ,  -6.91862296,\n",
       "        -6.1170864 ,  -6.12746193,  -7.76730048,  -5.60780958,\n",
       "        -6.36436793,  -5.44600849,  -6.29987765,  -8.37618248,\n",
       "        -7.0202305 ,  -8.04885539,  -7.95713076,  -6.78164758,\n",
       "        -8.11093581,  -9.01441337,  -8.12356749,  -7.58853438,\n",
       "        -6.69601355,  -8.42464895,  -5.33769335,  -7.13424288,\n",
       "        -8.25651991,  -8.71316354,  -8.20321366,  -7.64451924,\n",
       "        -4.98670327,  -5.78476206,  -9.78215795,  -5.17150905,\n",
       "        -7.89963638,  -6.99190439,  -4.72506712,  -6.64573611,\n",
       "        -7.48330677,  -7.38950725,   4.32357251,  -6.50346322,\n",
       "        -7.12756902,  -8.87490869,  -6.44379571,  -7.80409736,\n",
       "        -9.33473022,  -7.7459088 ,  -7.6999408 ,  -8.60786921,\n",
       "        -9.69472555,  -5.71630518,  -7.38498994,  -8.83632699,\n",
       "        -9.28303581,  -5.36307202,  -6.65864966,  -7.13184813,\n",
       "        -7.08316459,  -7.60003225,  -5.40515533,  -7.36042305,\n",
       "        -4.96123151,  -7.13345988,  -8.79648005,  -6.05082647,\n",
       "        -6.51298896,   2.09672109,  -7.57953733,  -7.55449108,\n",
       "        -2.76598124,  -8.26986501,  -8.75574769,  -6.11284911,\n",
       "        -7.12521886,  -6.27565721,  -5.79707099,  -5.44951317,\n",
       "        -7.04041757,  -6.2751659 ,  -6.52353012,  -7.6686602 ,\n",
       "        -6.98637465,  -6.82341352,  -7.89706504,  -7.4023486 ,\n",
       "        -8.6299834 ,  -9.74897297,  -1.37336515,  -8.76634923,\n",
       "        -4.1272221 ,  -5.92544445,  -5.49271561,  -6.76877026,\n",
       "        -8.48107158,  -5.71307961,  -5.64378156,  -6.94853938,\n",
       "        -8.9859374 ,  -8.16089857,  -7.85386297,  -8.00602492,\n",
       "        -7.05500714,  -8.89652839,  -8.68100793,  -8.10218802,\n",
       "        -7.55325667,  -8.73813379,  -8.07108184,  -9.18976917,\n",
       "        -8.51306828,  -8.29388581,  -3.92624607,  -6.2345458 ,\n",
       "        -6.49937925,  -8.08111038,  -6.10588283,  -6.77391294,\n",
       "        -0.80916121,  -7.01334067,  -7.18102313,  -7.31628791,\n",
       "        -7.92689218,  -8.21345576,  -7.47182738,  -5.12370888,\n",
       "        -6.81296857,  -7.81958981, -10.31141314,  -6.84774931,\n",
       "        -8.98056375,  -9.04395731,  -8.40255207,  -9.32066671,\n",
       "        -8.32754338,  -6.82353667,  -9.41850027,  -6.42157086,\n",
       "        -7.96306965,  -5.76742574,  -7.41852987,  -6.51725359,\n",
       "        -7.24234107,  -8.91816061,  -5.24949916,  -8.13591647,\n",
       "        -6.74794402,  -7.30767966,  -6.30278094,  -7.52361377,\n",
       "        -8.93829045,  -5.34679082,  -9.86304852,  -8.8141457 ,\n",
       "        -7.23591162,  -7.26105644,  -8.94706143,  -4.05822122,\n",
       "        -6.79564304,  -6.59362107,  -6.77459468,  -6.91779316,\n",
       "        -9.25137955,  -8.83883374,  -7.03118354,  -6.02017356,\n",
       "       -14.40314414,  -6.85109497,  16.90916004,  -5.71739773,\n",
       "        -8.21591395,  -6.15213469,  -7.02645634, -35.3217286 ,\n",
       "        -7.9469104 ,  -5.99121709,  -9.26711162,  -5.85160393])"
      ]
     },
     "execution_count": 42,
     "metadata": {},
     "output_type": "execute_result"
    }
   ],
   "source": [
    "y_scores"
   ]
  }
 ],
 "metadata": {
  "kernelspec": {
   "display_name": "Python 3",
   "language": "python",
   "name": "python3"
  },
  "language_info": {
   "codemirror_mode": {
    "name": "ipython",
    "version": 3
   },
   "file_extension": ".py",
   "mimetype": "text/x-python",
   "name": "python",
   "nbconvert_exporter": "python",
   "pygments_lexer": "ipython3",
   "version": "3.9.7"
  }
 },
 "nbformat": 4,
 "nbformat_minor": 2
}
