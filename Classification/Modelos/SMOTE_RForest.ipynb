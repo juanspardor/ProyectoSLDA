{
 "cells": [
  {
   "cell_type": "code",
   "execution_count": 1,
   "metadata": {},
   "outputs": [],
   "source": [
    "import pandas as pd\n",
    "import numpy as np\n",
    "from sklearn.datasets import make_classification\n",
    "from imblearn.over_sampling import SMOTE\n",
    "from sklearn.model_selection import train_test_split\n",
    "from sklearn.neighbors import KNeighborsClassifier\n",
    "from sklearn.metrics import classification_report\n",
    "from sklearn.ensemble import RandomForestClassifier\n",
    "from sklearn.datasets import load_iris\n",
    "from sklearn.model_selection import train_test_split, GridSearchCV\n",
    "from sklearn.ensemble import RandomForestClassifier\n",
    "from imblearn.over_sampling import SMOTE\n",
    "from sklearn.metrics import make_scorer, accuracy_score,roc_auc_score\n",
    "from imblearn.pipeline import Pipeline"
   ]
  },
  {
   "cell_type": "code",
   "execution_count": 3,
   "metadata": {},
   "outputs": [
    {
     "ename": "FileNotFoundError",
     "evalue": "[Errno 2] No such file or directory: 'C:/Users/Santiago Zubieta/Documents/2023-2/statistical/Proyecto/ProyectoSLDA/Classification/Preprocesamiento/sinOutliers.csv'",
     "output_type": "error",
     "traceback": [
      "\u001b[1;31m---------------------------------------------------------------------------\u001b[0m",
      "\u001b[1;31mFileNotFoundError\u001b[0m                         Traceback (most recent call last)",
      "\u001b[1;32mc:\\Users\\Santiago Zubieta\\Documents\\2023-2\\statistical\\Proyecto\\ProyectoSLDA\\Classification\\Modelos\\SMOTE_RForest.ipynb Cell 2\u001b[0m line \u001b[0;36m2\n\u001b[0;32m      <a href='vscode-notebook-cell:/c%3A/Users/Santiago%20Zubieta/Documents/2023-2/statistical/Proyecto/ProyectoSLDA/Classification/Modelos/SMOTE_RForest.ipynb#W1sZmlsZQ%3D%3D?line=0'>1</a>\u001b[0m \u001b[39m#Leer csv\u001b[39;00m\n\u001b[1;32m----> <a href='vscode-notebook-cell:/c%3A/Users/Santiago%20Zubieta/Documents/2023-2/statistical/Proyecto/ProyectoSLDA/Classification/Modelos/SMOTE_RForest.ipynb#W1sZmlsZQ%3D%3D?line=1'>2</a>\u001b[0m train\u001b[39m=\u001b[39mpd\u001b[39m.\u001b[39;49mread_csv(\u001b[39m'\u001b[39;49m\u001b[39mC:/Users/Santiago Zubieta/Documents/2023-2/statistical/Proyecto/ProyectoSLDA/Classification/Preprocesamiento/sinOutliers.csv\u001b[39;49m\u001b[39m'\u001b[39;49m)\n\u001b[0;32m      <a href='vscode-notebook-cell:/c%3A/Users/Santiago%20Zubieta/Documents/2023-2/statistical/Proyecto/ProyectoSLDA/Classification/Modelos/SMOTE_RForest.ipynb#W1sZmlsZQ%3D%3D?line=2'>3</a>\u001b[0m test\u001b[39m=\u001b[39mpd\u001b[39m.\u001b[39mread_csv(\u001b[39m'\u001b[39m\u001b[39mtest.csv\u001b[39m\u001b[39m'\u001b[39m)\n\u001b[0;32m      <a href='vscode-notebook-cell:/c%3A/Users/Santiago%20Zubieta/Documents/2023-2/statistical/Proyecto/ProyectoSLDA/Classification/Modelos/SMOTE_RForest.ipynb#W1sZmlsZQ%3D%3D?line=3'>4</a>\u001b[0m \u001b[39mprint\u001b[39m(train\u001b[39m.\u001b[39mshape,test\u001b[39m.\u001b[39mshape)\n",
      "File \u001b[1;32mc:\\Users\\Santiago Zubieta\\AppData\\Local\\Programs\\Python\\Python39\\lib\\site-packages\\pandas\\util\\_decorators.py:211\u001b[0m, in \u001b[0;36mdeprecate_kwarg.<locals>._deprecate_kwarg.<locals>.wrapper\u001b[1;34m(*args, **kwargs)\u001b[0m\n\u001b[0;32m    209\u001b[0m     \u001b[39melse\u001b[39;00m:\n\u001b[0;32m    210\u001b[0m         kwargs[new_arg_name] \u001b[39m=\u001b[39m new_arg_value\n\u001b[1;32m--> 211\u001b[0m \u001b[39mreturn\u001b[39;00m func(\u001b[39m*\u001b[39margs, \u001b[39m*\u001b[39m\u001b[39m*\u001b[39mkwargs)\n",
      "File \u001b[1;32mc:\\Users\\Santiago Zubieta\\AppData\\Local\\Programs\\Python\\Python39\\lib\\site-packages\\pandas\\util\\_decorators.py:331\u001b[0m, in \u001b[0;36mdeprecate_nonkeyword_arguments.<locals>.decorate.<locals>.wrapper\u001b[1;34m(*args, **kwargs)\u001b[0m\n\u001b[0;32m    325\u001b[0m \u001b[39mif\u001b[39;00m \u001b[39mlen\u001b[39m(args) \u001b[39m>\u001b[39m num_allow_args:\n\u001b[0;32m    326\u001b[0m     warnings\u001b[39m.\u001b[39mwarn(\n\u001b[0;32m    327\u001b[0m         msg\u001b[39m.\u001b[39mformat(arguments\u001b[39m=\u001b[39m_format_argument_list(allow_args)),\n\u001b[0;32m    328\u001b[0m         \u001b[39mFutureWarning\u001b[39;00m,\n\u001b[0;32m    329\u001b[0m         stacklevel\u001b[39m=\u001b[39mfind_stack_level(),\n\u001b[0;32m    330\u001b[0m     )\n\u001b[1;32m--> 331\u001b[0m \u001b[39mreturn\u001b[39;00m func(\u001b[39m*\u001b[39margs, \u001b[39m*\u001b[39m\u001b[39m*\u001b[39mkwargs)\n",
      "File \u001b[1;32mc:\\Users\\Santiago Zubieta\\AppData\\Local\\Programs\\Python\\Python39\\lib\\site-packages\\pandas\\io\\parsers\\readers.py:950\u001b[0m, in \u001b[0;36mread_csv\u001b[1;34m(filepath_or_buffer, sep, delimiter, header, names, index_col, usecols, squeeze, prefix, mangle_dupe_cols, dtype, engine, converters, true_values, false_values, skipinitialspace, skiprows, skipfooter, nrows, na_values, keep_default_na, na_filter, verbose, skip_blank_lines, parse_dates, infer_datetime_format, keep_date_col, date_parser, dayfirst, cache_dates, iterator, chunksize, compression, thousands, decimal, lineterminator, quotechar, quoting, doublequote, escapechar, comment, encoding, encoding_errors, dialect, error_bad_lines, warn_bad_lines, on_bad_lines, delim_whitespace, low_memory, memory_map, float_precision, storage_options)\u001b[0m\n\u001b[0;32m    935\u001b[0m kwds_defaults \u001b[39m=\u001b[39m _refine_defaults_read(\n\u001b[0;32m    936\u001b[0m     dialect,\n\u001b[0;32m    937\u001b[0m     delimiter,\n\u001b[1;32m   (...)\u001b[0m\n\u001b[0;32m    946\u001b[0m     defaults\u001b[39m=\u001b[39m{\u001b[39m\"\u001b[39m\u001b[39mdelimiter\u001b[39m\u001b[39m\"\u001b[39m: \u001b[39m\"\u001b[39m\u001b[39m,\u001b[39m\u001b[39m\"\u001b[39m},\n\u001b[0;32m    947\u001b[0m )\n\u001b[0;32m    948\u001b[0m kwds\u001b[39m.\u001b[39mupdate(kwds_defaults)\n\u001b[1;32m--> 950\u001b[0m \u001b[39mreturn\u001b[39;00m _read(filepath_or_buffer, kwds)\n",
      "File \u001b[1;32mc:\\Users\\Santiago Zubieta\\AppData\\Local\\Programs\\Python\\Python39\\lib\\site-packages\\pandas\\io\\parsers\\readers.py:605\u001b[0m, in \u001b[0;36m_read\u001b[1;34m(filepath_or_buffer, kwds)\u001b[0m\n\u001b[0;32m    602\u001b[0m _validate_names(kwds\u001b[39m.\u001b[39mget(\u001b[39m\"\u001b[39m\u001b[39mnames\u001b[39m\u001b[39m\"\u001b[39m, \u001b[39mNone\u001b[39;00m))\n\u001b[0;32m    604\u001b[0m \u001b[39m# Create the parser.\u001b[39;00m\n\u001b[1;32m--> 605\u001b[0m parser \u001b[39m=\u001b[39m TextFileReader(filepath_or_buffer, \u001b[39m*\u001b[39m\u001b[39m*\u001b[39mkwds)\n\u001b[0;32m    607\u001b[0m \u001b[39mif\u001b[39;00m chunksize \u001b[39mor\u001b[39;00m iterator:\n\u001b[0;32m    608\u001b[0m     \u001b[39mreturn\u001b[39;00m parser\n",
      "File \u001b[1;32mc:\\Users\\Santiago Zubieta\\AppData\\Local\\Programs\\Python\\Python39\\lib\\site-packages\\pandas\\io\\parsers\\readers.py:1442\u001b[0m, in \u001b[0;36mTextFileReader.__init__\u001b[1;34m(self, f, engine, **kwds)\u001b[0m\n\u001b[0;32m   1439\u001b[0m     \u001b[39mself\u001b[39m\u001b[39m.\u001b[39moptions[\u001b[39m\"\u001b[39m\u001b[39mhas_index_names\u001b[39m\u001b[39m\"\u001b[39m] \u001b[39m=\u001b[39m kwds[\u001b[39m\"\u001b[39m\u001b[39mhas_index_names\u001b[39m\u001b[39m\"\u001b[39m]\n\u001b[0;32m   1441\u001b[0m \u001b[39mself\u001b[39m\u001b[39m.\u001b[39mhandles: IOHandles \u001b[39m|\u001b[39m \u001b[39mNone\u001b[39;00m \u001b[39m=\u001b[39m \u001b[39mNone\u001b[39;00m\n\u001b[1;32m-> 1442\u001b[0m \u001b[39mself\u001b[39m\u001b[39m.\u001b[39m_engine \u001b[39m=\u001b[39m \u001b[39mself\u001b[39;49m\u001b[39m.\u001b[39;49m_make_engine(f, \u001b[39mself\u001b[39;49m\u001b[39m.\u001b[39;49mengine)\n",
      "File \u001b[1;32mc:\\Users\\Santiago Zubieta\\AppData\\Local\\Programs\\Python\\Python39\\lib\\site-packages\\pandas\\io\\parsers\\readers.py:1735\u001b[0m, in \u001b[0;36mTextFileReader._make_engine\u001b[1;34m(self, f, engine)\u001b[0m\n\u001b[0;32m   1733\u001b[0m     \u001b[39mif\u001b[39;00m \u001b[39m\"\u001b[39m\u001b[39mb\u001b[39m\u001b[39m\"\u001b[39m \u001b[39mnot\u001b[39;00m \u001b[39min\u001b[39;00m mode:\n\u001b[0;32m   1734\u001b[0m         mode \u001b[39m+\u001b[39m\u001b[39m=\u001b[39m \u001b[39m\"\u001b[39m\u001b[39mb\u001b[39m\u001b[39m\"\u001b[39m\n\u001b[1;32m-> 1735\u001b[0m \u001b[39mself\u001b[39m\u001b[39m.\u001b[39mhandles \u001b[39m=\u001b[39m get_handle(\n\u001b[0;32m   1736\u001b[0m     f,\n\u001b[0;32m   1737\u001b[0m     mode,\n\u001b[0;32m   1738\u001b[0m     encoding\u001b[39m=\u001b[39;49m\u001b[39mself\u001b[39;49m\u001b[39m.\u001b[39;49moptions\u001b[39m.\u001b[39;49mget(\u001b[39m\"\u001b[39;49m\u001b[39mencoding\u001b[39;49m\u001b[39m\"\u001b[39;49m, \u001b[39mNone\u001b[39;49;00m),\n\u001b[0;32m   1739\u001b[0m     compression\u001b[39m=\u001b[39;49m\u001b[39mself\u001b[39;49m\u001b[39m.\u001b[39;49moptions\u001b[39m.\u001b[39;49mget(\u001b[39m\"\u001b[39;49m\u001b[39mcompression\u001b[39;49m\u001b[39m\"\u001b[39;49m, \u001b[39mNone\u001b[39;49;00m),\n\u001b[0;32m   1740\u001b[0m     memory_map\u001b[39m=\u001b[39;49m\u001b[39mself\u001b[39;49m\u001b[39m.\u001b[39;49moptions\u001b[39m.\u001b[39;49mget(\u001b[39m\"\u001b[39;49m\u001b[39mmemory_map\u001b[39;49m\u001b[39m\"\u001b[39;49m, \u001b[39mFalse\u001b[39;49;00m),\n\u001b[0;32m   1741\u001b[0m     is_text\u001b[39m=\u001b[39;49mis_text,\n\u001b[0;32m   1742\u001b[0m     errors\u001b[39m=\u001b[39;49m\u001b[39mself\u001b[39;49m\u001b[39m.\u001b[39;49moptions\u001b[39m.\u001b[39;49mget(\u001b[39m\"\u001b[39;49m\u001b[39mencoding_errors\u001b[39;49m\u001b[39m\"\u001b[39;49m, \u001b[39m\"\u001b[39;49m\u001b[39mstrict\u001b[39;49m\u001b[39m\"\u001b[39;49m),\n\u001b[0;32m   1743\u001b[0m     storage_options\u001b[39m=\u001b[39;49m\u001b[39mself\u001b[39;49m\u001b[39m.\u001b[39;49moptions\u001b[39m.\u001b[39;49mget(\u001b[39m\"\u001b[39;49m\u001b[39mstorage_options\u001b[39;49m\u001b[39m\"\u001b[39;49m, \u001b[39mNone\u001b[39;49;00m),\n\u001b[0;32m   1744\u001b[0m )\n\u001b[0;32m   1745\u001b[0m \u001b[39massert\u001b[39;00m \u001b[39mself\u001b[39m\u001b[39m.\u001b[39mhandles \u001b[39mis\u001b[39;00m \u001b[39mnot\u001b[39;00m \u001b[39mNone\u001b[39;00m\n\u001b[0;32m   1746\u001b[0m f \u001b[39m=\u001b[39m \u001b[39mself\u001b[39m\u001b[39m.\u001b[39mhandles\u001b[39m.\u001b[39mhandle\n",
      "File \u001b[1;32mc:\\Users\\Santiago Zubieta\\AppData\\Local\\Programs\\Python\\Python39\\lib\\site-packages\\pandas\\io\\common.py:856\u001b[0m, in \u001b[0;36mget_handle\u001b[1;34m(path_or_buf, mode, encoding, compression, memory_map, is_text, errors, storage_options)\u001b[0m\n\u001b[0;32m    851\u001b[0m \u001b[39melif\u001b[39;00m \u001b[39misinstance\u001b[39m(handle, \u001b[39mstr\u001b[39m):\n\u001b[0;32m    852\u001b[0m     \u001b[39m# Check whether the filename is to be opened in binary mode.\u001b[39;00m\n\u001b[0;32m    853\u001b[0m     \u001b[39m# Binary mode does not support 'encoding' and 'newline'.\u001b[39;00m\n\u001b[0;32m    854\u001b[0m     \u001b[39mif\u001b[39;00m ioargs\u001b[39m.\u001b[39mencoding \u001b[39mand\u001b[39;00m \u001b[39m\"\u001b[39m\u001b[39mb\u001b[39m\u001b[39m\"\u001b[39m \u001b[39mnot\u001b[39;00m \u001b[39min\u001b[39;00m ioargs\u001b[39m.\u001b[39mmode:\n\u001b[0;32m    855\u001b[0m         \u001b[39m# Encoding\u001b[39;00m\n\u001b[1;32m--> 856\u001b[0m         handle \u001b[39m=\u001b[39m \u001b[39mopen\u001b[39;49m(\n\u001b[0;32m    857\u001b[0m             handle,\n\u001b[0;32m    858\u001b[0m             ioargs\u001b[39m.\u001b[39;49mmode,\n\u001b[0;32m    859\u001b[0m             encoding\u001b[39m=\u001b[39;49mioargs\u001b[39m.\u001b[39;49mencoding,\n\u001b[0;32m    860\u001b[0m             errors\u001b[39m=\u001b[39;49merrors,\n\u001b[0;32m    861\u001b[0m             newline\u001b[39m=\u001b[39;49m\u001b[39m\"\u001b[39;49m\u001b[39m\"\u001b[39;49m,\n\u001b[0;32m    862\u001b[0m         )\n\u001b[0;32m    863\u001b[0m     \u001b[39melse\u001b[39;00m:\n\u001b[0;32m    864\u001b[0m         \u001b[39m# Binary mode\u001b[39;00m\n\u001b[0;32m    865\u001b[0m         handle \u001b[39m=\u001b[39m \u001b[39mopen\u001b[39m(handle, ioargs\u001b[39m.\u001b[39mmode)\n",
      "\u001b[1;31mFileNotFoundError\u001b[0m: [Errno 2] No such file or directory: 'C:/Users/Santiago Zubieta/Documents/2023-2/statistical/Proyecto/ProyectoSLDA/Classification/Preprocesamiento/sinOutliers.csv'"
     ]
    }
   ],
   "source": [
    "#Leer csv\n",
    "train=pd.read_csv('C:/Users/Santiago Zubieta/Documents/2023-2/statistical/Proyecto/ProyectoSLDA/Classification/Preprocesamiento/sinOutliers.csv')\n",
    "test=pd.read_csv('test.csv')\n",
    "print(train.shape,test.shape)"
   ]
  },
  {
   "cell_type": "code",
   "execution_count": 4,
   "metadata": {},
   "outputs": [
    {
     "data": {
      "text/html": [
       "<div>\n",
       "<style scoped>\n",
       "    .dataframe tbody tr th:only-of-type {\n",
       "        vertical-align: middle;\n",
       "    }\n",
       "\n",
       "    .dataframe tbody tr th {\n",
       "        vertical-align: top;\n",
       "    }\n",
       "\n",
       "    .dataframe thead th {\n",
       "        text-align: right;\n",
       "    }\n",
       "</style>\n",
       "<table border=\"1\" class=\"dataframe\">\n",
       "  <thead>\n",
       "    <tr style=\"text-align: right;\">\n",
       "      <th></th>\n",
       "      <th>B21</th>\n",
       "      <th>B22</th>\n",
       "      <th>B24</th>\n",
       "      <th>B45</th>\n",
       "      <th>B46</th>\n",
       "      <th>B47</th>\n",
       "      <th>B54</th>\n",
       "      <th>B67</th>\n",
       "      <th>B68</th>\n",
       "      <th>B85</th>\n",
       "    </tr>\n",
       "  </thead>\n",
       "  <tbody>\n",
       "    <tr>\n",
       "      <th>0</th>\n",
       "      <td>0.051358</td>\n",
       "      <td>0.054788</td>\n",
       "      <td>0.192552</td>\n",
       "      <td>0.715467</td>\n",
       "      <td>2.514527</td>\n",
       "      <td>0.284533</td>\n",
       "      <td>0.427810</td>\n",
       "      <td>1.491033</td>\n",
       "      <td>1.066784</td>\n",
       "      <td>0.315473</td>\n",
       "    </tr>\n",
       "    <tr>\n",
       "      <th>1</th>\n",
       "      <td>0.014865</td>\n",
       "      <td>0.036778</td>\n",
       "      <td>0.066270</td>\n",
       "      <td>0.445023</td>\n",
       "      <td>0.801876</td>\n",
       "      <td>0.554977</td>\n",
       "      <td>0.116977</td>\n",
       "      <td>5.559600</td>\n",
       "      <td>2.474149</td>\n",
       "      <td>0.000781</td>\n",
       "    </tr>\n",
       "    <tr>\n",
       "      <th>2</th>\n",
       "      <td>0.034651</td>\n",
       "      <td>0.035834</td>\n",
       "      <td>0.060801</td>\n",
       "      <td>0.410631</td>\n",
       "      <td>0.696731</td>\n",
       "      <td>0.589369</td>\n",
       "      <td>0.061781</td>\n",
       "      <td>2.518440</td>\n",
       "      <td>1.034150</td>\n",
       "      <td>0.423366</td>\n",
       "    </tr>\n",
       "    <tr>\n",
       "      <th>3</th>\n",
       "      <td>0.011525</td>\n",
       "      <td>0.032684</td>\n",
       "      <td>0.055938</td>\n",
       "      <td>0.415716</td>\n",
       "      <td>0.711496</td>\n",
       "      <td>0.584284</td>\n",
       "      <td>0.534784</td>\n",
       "      <td>6.821618</td>\n",
       "      <td>2.835855</td>\n",
       "      <td>0.116712</td>\n",
       "    </tr>\n",
       "    <tr>\n",
       "      <th>4</th>\n",
       "      <td>-0.471426</td>\n",
       "      <td>-0.879894</td>\n",
       "      <td>-1.330865</td>\n",
       "      <td>0.338856</td>\n",
       "      <td>0.512529</td>\n",
       "      <td>0.661144</td>\n",
       "      <td>0.010106</td>\n",
       "      <td>5.508104</td>\n",
       "      <td>1.866452</td>\n",
       "      <td>-0.109884</td>\n",
       "    </tr>\n",
       "  </tbody>\n",
       "</table>\n",
       "</div>"
      ],
      "text/plain": [
       "        B21       B22       B24       B45       B46       B47       B54  \\\n",
       "0  0.051358  0.054788  0.192552  0.715467  2.514527  0.284533  0.427810   \n",
       "1  0.014865  0.036778  0.066270  0.445023  0.801876  0.554977  0.116977   \n",
       "2  0.034651  0.035834  0.060801  0.410631  0.696731  0.589369  0.061781   \n",
       "3  0.011525  0.032684  0.055938  0.415716  0.711496  0.584284  0.534784   \n",
       "4 -0.471426 -0.879894 -1.330865  0.338856  0.512529  0.661144  0.010106   \n",
       "\n",
       "        B67       B68       B85  \n",
       "0  1.491033  1.066784  0.315473  \n",
       "1  5.559600  2.474149  0.000781  \n",
       "2  2.518440  1.034150  0.423366  \n",
       "3  6.821618  2.835855  0.116712  \n",
       "4  5.508104  1.866452 -0.109884  "
      ]
     },
     "execution_count": 4,
     "metadata": {},
     "output_type": "execute_result"
    }
   ],
   "source": [
    "#Variables\n",
    "X=train.iloc[:,2:]\n",
    "y=train.iloc[:,1]\n",
    "X=X.loc[:,[False, False, False, False,  True,  True, False,  True, False,\n",
    "       False, False, False, False, False,  True,  True,  True, False,\n",
    "       False, False, False,  True, False, False, False, False, False,\n",
    "       False,  True,  True, False, False, False, False, False, False,\n",
    "       False, False, False,  True]]\n",
    "       \n",
    "X.head()"
   ]
  },
  {
   "cell_type": "code",
   "execution_count": 5,
   "metadata": {},
   "outputs": [
    {
     "data": {
      "text/plain": [
       "((1438, 10), (360,))"
      ]
     },
     "execution_count": 5,
     "metadata": {},
     "output_type": "execute_result"
    }
   ],
   "source": [
    "Xtrain,Xtest,yTrain,yTest=train_test_split(X,y,test_size=0.20,random_state=42)\n",
    "(Xtrain.shape,yTest.shape)\n"
   ]
  },
  {
   "cell_type": "code",
   "execution_count": 6,
   "metadata": {},
   "outputs": [],
   "source": [
    "rf=RandomForestClassifier()\n",
    "smote=SMOTE()"
   ]
  },
  {
   "cell_type": "code",
   "execution_count": 7,
   "metadata": {},
   "outputs": [],
   "source": [
    "# Define the parameter grid for the grid search\n",
    "param_grid = {\n",
    "    'rf__n_estimators': [ 50,100, 200, 400,500],\n",
    "    'rf__max_depth': [3,4, 5],\n",
    "    'smote__sampling_strategy': [0.0,0.1,0.2,0.3,0.4,0.5,0.6,0.7,0.8,0.9,1.0]\n",
    "}\n",
    "\n",
    "# Create a pipeline with SMOTE and Random Forest\n",
    "pipeline = Pipeline([\n",
    "    ('smote', smote),\n",
    "    ('rf', rf)\n",
    "])\n",
    "\n",
    "# Define the scoring metric as AUC\n",
    "scorer = make_scorer(accuracy_score)\n",
    "\n",
    "# Create the GridSearchCV object\n",
    "grid_search = GridSearchCV(pipeline, param_grid, scoring=scorer, cv=3)\n"
   ]
  },
  {
   "cell_type": "code",
   "execution_count": 77,
   "metadata": {},
   "outputs": [
    {
     "data": {
      "text/plain": [
       "array([0.01 , 0.175, 0.34 , 0.505, 0.67 , 0.835, 1.   ])"
      ]
     },
     "execution_count": 77,
     "metadata": {},
     "output_type": "execute_result"
    }
   ],
   "source": [
    "np.linspace(0.01, 1, 7)"
   ]
  },
  {
   "cell_type": "code",
   "execution_count": 135,
   "metadata": {},
   "outputs": [
    {
     "data": {
      "text/plain": [
       "(1798, 19)"
      ]
     },
     "execution_count": 135,
     "metadata": {},
     "output_type": "execute_result"
    }
   ],
   "source": [
    "\n"
   ]
  },
  {
   "cell_type": "code",
   "execution_count": 8,
   "metadata": {},
   "outputs": [
    {
     "name": "stderr",
     "output_type": "stream",
     "text": [
      "c:\\Users\\Santiago Zubieta\\AppData\\Local\\Programs\\Python\\Python39\\lib\\site-packages\\sklearn\\model_selection\\_validation.py:378: FitFailedWarning: \n",
      "45 fits failed out of a total of 495.\n",
      "The score on these train-test partitions for these parameters will be set to nan.\n",
      "If these failures are not expected, you can try to debug them by setting error_score='raise'.\n",
      "\n",
      "Below are more details about the failures:\n",
      "--------------------------------------------------------------------------------\n",
      "45 fits failed with the following error:\n",
      "Traceback (most recent call last):\n",
      "  File \"c:\\Users\\Santiago Zubieta\\AppData\\Local\\Programs\\Python\\Python39\\lib\\site-packages\\sklearn\\model_selection\\_validation.py\", line 686, in _fit_and_score\n",
      "    estimator.fit(X_train, y_train, **fit_params)\n",
      "  File \"c:\\Users\\Santiago Zubieta\\AppData\\Local\\Programs\\Python\\Python39\\lib\\site-packages\\imblearn\\pipeline.py\", line 293, in fit\n",
      "    Xt, yt = self._fit(X, y, **fit_params_steps)\n",
      "  File \"c:\\Users\\Santiago Zubieta\\AppData\\Local\\Programs\\Python\\Python39\\lib\\site-packages\\imblearn\\pipeline.py\", line 250, in _fit\n",
      "    X, y, fitted_transformer = fit_resample_one_cached(\n",
      "  File \"c:\\Users\\Santiago Zubieta\\AppData\\Local\\Programs\\Python\\Python39\\lib\\site-packages\\joblib\\memory.py\", line 349, in __call__\n",
      "    return self.func(*args, **kwargs)\n",
      "  File \"c:\\Users\\Santiago Zubieta\\AppData\\Local\\Programs\\Python\\Python39\\lib\\site-packages\\imblearn\\pipeline.py\", line 422, in _fit_resample_one\n",
      "    X_res, y_res = sampler.fit_resample(X, y, **fit_params)\n",
      "  File \"c:\\Users\\Santiago Zubieta\\AppData\\Local\\Programs\\Python\\Python39\\lib\\site-packages\\imblearn\\base.py\", line 207, in fit_resample\n",
      "    self._validate_params()\n",
      "  File \"c:\\Users\\Santiago Zubieta\\AppData\\Local\\Programs\\Python\\Python39\\lib\\site-packages\\imblearn\\base.py\", line 42, in _validate_params\n",
      "    validate_parameter_constraints(\n",
      "  File \"c:\\Users\\Santiago Zubieta\\AppData\\Local\\Programs\\Python\\Python39\\lib\\site-packages\\imblearn\\utils\\_param_validation.py\", line 107, in validate_parameter_constraints\n",
      "    raise InvalidParameterError(\n",
      "imblearn.utils._param_validation.InvalidParameterError: The 'sampling_strategy' parameter of SMOTE must be a float in the range (0.0, 1.0], a str among {'all', 'not majority', 'not minority', 'minority', 'auto'}, an instance of 'collections.abc.Mapping' or a callable. Got 0.0 instead.\n",
      "\n",
      "  warnings.warn(some_fits_failed_message, FitFailedWarning)\n",
      "c:\\Users\\Santiago Zubieta\\AppData\\Local\\Programs\\Python\\Python39\\lib\\site-packages\\sklearn\\model_selection\\_search.py:952: UserWarning: One or more of the test scores are non-finite: [       nan 0.95717121 0.9443721  0.93602671 0.9243415  0.91600538\n",
      " 0.8987711  0.89599054 0.8870933  0.88765164 0.87319143        nan\n",
      " 0.96217956 0.94326006 0.93435912 0.92267483 0.90989241 0.90489056\n",
      " 0.89320998 0.88431274 0.88208681 0.87930532        nan 0.96273604\n",
      " 0.94659803 0.93435726 0.93046466 0.91433686 0.90266277 0.89988592\n",
      " 0.89265813 0.87374513 0.87263124        nan 0.95939807 0.947711\n",
      " 0.93435819 0.92712762 0.91656186 0.90710907 0.89321369 0.88542664\n",
      " 0.8865396  0.87095993        nan 0.95939714 0.94548507 0.93713782\n",
      " 0.92490076 0.91822853 0.90432851 0.89321091 0.89154146 0.88598034\n",
      " 0.8709655         nan 0.9632916  0.94882397 0.93936561 0.9299156\n",
      " 0.91990633 0.9160128  0.90878316 0.90544611 0.8920933  0.89154517\n",
      "        nan 0.96106752 0.94882675 0.94103413 0.92713318 0.91934891\n",
      " 0.91045261 0.90600074 0.90322018 0.88820349 0.88542014        nan\n",
      " 0.95884159 0.94604155 0.94215173 0.93213318 0.92379892 0.91323317\n",
      " 0.90934057 0.90210443 0.89821183 0.89432295        nan 0.95494621\n",
      " 0.94993786 0.94270358 0.92935541 0.91935355 0.91323131 0.90600352\n",
      " 0.90210722 0.89432295 0.88597385        nan 0.95939714 0.94938045\n",
      " 0.94103506 0.92880356 0.92935726 0.91489612 0.90711371 0.89932573\n",
      " 0.89542942 0.88931182        nan 0.95605917 0.94882489 0.9421471\n",
      " 0.93324522 0.92713226 0.926023   0.91489612 0.90988963 0.89988778\n",
      " 0.89654795        nan 0.95772769 0.94826841 0.94214802 0.93047208\n",
      " 0.9299156  0.9187915  0.91323224 0.91045261 0.90488778 0.89710443\n",
      "        nan 0.96051196 0.94826934 0.9393721  0.93047208 0.93047208\n",
      " 0.91657114 0.91490262 0.91212113 0.90433315 0.89933037        nan\n",
      " 0.95717214 0.94659989 0.94214988 0.93269523 0.92268596 0.91490076\n",
      " 0.91211927 0.90767112 0.90711464 0.90210629        nan 0.95995455\n",
      " 0.95105083 0.94159061 0.9299156  0.9215767  0.9199054  0.91823688\n",
      " 0.90655537 0.90322389 0.8982174 ]\n",
      "  warnings.warn(\n"
     ]
    }
   ],
   "source": [
    "\n",
    "grid_search.fit(X,y)\n",
    "\n",
    "# Get the best parameters and model \n",
    "best_params = grid_search.best_params_\n",
    "best_model = grid_search.best_estimator_"
   ]
  },
  {
   "cell_type": "code",
   "execution_count": 9,
   "metadata": {},
   "outputs": [
    {
     "data": {
      "text/plain": [
       "{'rf__max_depth': 4, 'rf__n_estimators': 50, 'smote__sampling_strategy': 0.1}"
      ]
     },
     "execution_count": 9,
     "metadata": {},
     "output_type": "execute_result"
    }
   ],
   "source": [
    "best_params"
   ]
  },
  {
   "cell_type": "code",
   "execution_count": null,
   "metadata": {},
   "outputs": [],
   "source": [
    "rf2=RandomForestClassifier(n_estimators=100,max_depth=3)"
   ]
  },
  {
   "cell_type": "code",
   "execution_count": 136,
   "metadata": {},
   "outputs": [
    {
     "data": {
      "text/plain": [
       "(545, 39)"
      ]
     },
     "execution_count": 136,
     "metadata": {},
     "output_type": "execute_result"
    }
   ],
   "source": [
    "xTest.shape\n"
   ]
  },
  {
   "cell_type": "code",
   "execution_count": 132,
   "metadata": {},
   "outputs": [
    {
     "data": {
      "text/plain": [
       "Index(['B12', 'B13', 'B14', 'B21', 'B22', 'B23', 'B24', 'B31', 'B32', 'B41',\n",
       "       'B42', 'B43', 'B44', 'B45', 'B46', 'B47', 'B48', 'B51', 'B52', 'B53',\n",
       "       'B54', 'B61', 'B62', 'B63', 'B64', 'B65', 'B66', 'B67', 'B68', 'B69',\n",
       "       'B610', 'B611', 'B612', 'B613', 'B81', 'B82', 'B83', 'B84', 'B85'],\n",
       "      dtype='object')"
      ]
     },
     "execution_count": 132,
     "metadata": {},
     "output_type": "execute_result"
    }
   ],
   "source": [
    "varBasuras=['B11','B13','B14','B21','B23','B24','B46','B48',\n",
    "            'B51','B52','B53','B54','B61','B62','B63','B64',\n",
    "            'B65','B66','B67','B611','B85']\n",
    "X=train.drop(columns=varBasuras)\n",
    "X=X.iloc[:,2:]\n",
    "X.columns\n",
    "\n",
    "xTest=test.iloc[:,2:]\n",
    "xTest.columns\n",
    "#test=test.drop"
   ]
  },
  {
   "cell_type": "code",
   "execution_count": 12,
   "metadata": {},
   "outputs": [],
   "source": [
    "xTest=test.loc[:,X.columns]\n",
    "\n"
   ]
  },
  {
   "cell_type": "code",
   "execution_count": 14,
   "metadata": {},
   "outputs": [
    {
     "name": "stdout",
     "output_type": "stream",
     "text": [
      "        B21       B22       B24       B45       B46       B47       B54  \\\n",
      "0  0.004660  0.015889  0.019988  0.205074  0.257978  0.794926  0.033685   \n",
      "1  0.019770  0.026808  0.028787  0.068754  0.073830  0.931246  0.026127   \n",
      "2  0.035654  0.066402  0.123366  0.461747  0.857861  0.538253  0.198909   \n",
      "3  0.047037  0.047704  0.089339  0.466033  0.872775  0.533967  0.023921   \n",
      "4  0.066137  0.126616  0.249419  0.492356  0.969884  0.507644  0.127201   \n",
      "\n",
      "         B67       B68       B85  \n",
      "0  16.626055  3.409565  1.682761  \n",
      "1  19.722161  1.355979  1.501305  \n",
      "2   4.033451  1.862432  0.603646  \n",
      "3   2.176174  1.014169  1.107632  \n",
      "4   3.888342  1.914449  0.107180  \n"
     ]
    }
   ],
   "source": [
    "print(xTest.head())"
   ]
  },
  {
   "cell_type": "code",
   "execution_count": 134,
   "metadata": {},
   "outputs": [
    {
     "data": {
      "text/plain": [
       "Index(['B12', 'B13', 'B14', 'B21', 'B22', 'B23', 'B24', 'B31', 'B32', 'B41',\n",
       "       'B42', 'B43', 'B44', 'B45', 'B46', 'B47', 'B48', 'B51', 'B52', 'B53',\n",
       "       'B54', 'B61', 'B62', 'B63', 'B64', 'B65', 'B66', 'B67', 'B68', 'B69',\n",
       "       'B610', 'B611', 'B612', 'B613', 'B81', 'B82', 'B83', 'B84', 'B85'],\n",
       "      dtype='object')"
      ]
     },
     "execution_count": 134,
     "metadata": {},
     "output_type": "execute_result"
    }
   ],
   "source": [
    "xTest.columns"
   ]
  },
  {
   "cell_type": "code",
   "execution_count": 144,
   "metadata": {},
   "outputs": [],
   "source": [
    "xTest=test[X.columns]"
   ]
  },
  {
   "cell_type": "code",
   "execution_count": 15,
   "metadata": {},
   "outputs": [],
   "source": [
    "# Assuming best_model is your trained RandomForestClassifier\n",
    "probabilities = best_model.predict_proba(xTest)[:,1]\n",
    "# Convert the NumPy array to a pandas DataFrame\n",
    "probabilities_df = pd.DataFrame(probabilities)\n",
    "probabilities_df.index = probabilities_df.index + 1\n",
    "# Save the DataFrame to a CSV file\n",
    "probabilities_df.to_csv('intento.csv', index=True)"
   ]
  },
  {
   "cell_type": "code",
   "execution_count": 150,
   "metadata": {},
   "outputs": [
    {
     "data": {
      "text/plain": [
       "(array([351.,  60.,  45.,  19.,  14.,  13.,   8.,   6.,   4.,   3.,   3.,\n",
       "          6.,   0.,   2.,   2.,   4.,   0.,   0.,   1.,   2.,   0.,   0.,\n",
       "          0.,   1.,   0.,   0.,   0.,   0.,   0.,   1.]),\n",
       " array([0.02070535, 0.05037423, 0.0800431 , 0.10971198, 0.13938086,\n",
       "        0.16904974, 0.19871862, 0.2283875 , 0.25805638, 0.28772526,\n",
       "        0.31739414, 0.34706302, 0.3767319 , 0.40640078, 0.43606966,\n",
       "        0.46573854, 0.49540742, 0.5250763 , 0.55474518, 0.58441406,\n",
       "        0.61408294, 0.64375182, 0.67342069, 0.70308957, 0.73275845,\n",
       "        0.76242733, 0.79209621, 0.82176509, 0.85143397, 0.88110285,\n",
       "        0.91077173]),\n",
       " <BarContainer object of 30 artists>)"
      ]
     },
     "execution_count": 150,
     "metadata": {},
     "output_type": "execute_result"
    },
    {
     "data": {
      "image/png": "[encoded data removed]",
      "text/plain": [
       "<Figure size 640x480 with 1 Axes>"
      ]
     },
     "metadata": {},
     "output_type": "display_data"
    }
   ],
   "source": [
    "import matplotlib.pyplot as plt\n",
    "plt.hist(probabilities, bins=30, color='skyblue', edgecolor='black')"
   ]
  },
  {
   "cell_type": "code",
   "execution_count": 151,
   "metadata": {},
   "outputs": [
    {
     "ename": "AttributeError",
     "evalue": "'Pipeline' object has no attribute 'feature_importances_'",
     "output_type": "error",
     "traceback": [
      "\u001b[1;31m---------------------------------------------------------------------------\u001b[0m",
      "\u001b[1;31mAttributeError\u001b[0m                            Traceback (most recent call last)",
      "\u001b[1;32mc:\\Users\\Santiago Zubieta\\Documents\\2023-2\\statistical\\Proyecto\\ProyectoSLDA\\Classification\\Modelos\\SMOTE_RForest.ipynb Cell 20\u001b[0m line \u001b[0;36m2\n\u001b[0;32m      <a href='vscode-notebook-cell:/c%3A/Users/Santiago%20Zubieta/Documents/2023-2/statistical/Proyecto/ProyectoSLDA/Classification/Modelos/SMOTE_RForest.ipynb#X30sZmlsZQ%3D%3D?line=0'>1</a>\u001b[0m \u001b[39m# Get feature importances\u001b[39;00m\n\u001b[1;32m----> <a href='vscode-notebook-cell:/c%3A/Users/Santiago%20Zubieta/Documents/2023-2/statistical/Proyecto/ProyectoSLDA/Classification/Modelos/SMOTE_RForest.ipynb#X30sZmlsZQ%3D%3D?line=1'>2</a>\u001b[0m feature_importances \u001b[39m=\u001b[39m best_model\u001b[39m.\u001b[39;49mfeature_importances_\n\u001b[0;32m      <a href='vscode-notebook-cell:/c%3A/Users/Santiago%20Zubieta/Documents/2023-2/statistical/Proyecto/ProyectoSLDA/Classification/Modelos/SMOTE_RForest.ipynb#X30sZmlsZQ%3D%3D?line=3'>4</a>\u001b[0m \u001b[39m# Get the names of the features (assuming X_train is a DataFrame)\u001b[39;00m\n\u001b[0;32m      <a href='vscode-notebook-cell:/c%3A/Users/Santiago%20Zubieta/Documents/2023-2/statistical/Proyecto/ProyectoSLDA/Classification/Modelos/SMOTE_RForest.ipynb#X30sZmlsZQ%3D%3D?line=4'>5</a>\u001b[0m feature_names \u001b[39m=\u001b[39m Xtrain\u001b[39m.\u001b[39mcolumns\n",
      "\u001b[1;31mAttributeError\u001b[0m: 'Pipeline' object has no attribute 'feature_importances_'"
     ]
    }
   ],
   "source": [
    "# Get feature importances\n",
    "feature_importances = best_model.feature_importances_\n",
    "\n",
    "# Get the names of the features (assuming X_train is a DataFrame)\n",
    "feature_names = Xtrain.columns\n",
    "\n",
    "# Create a bar plot of feature importances\n",
    "plt.barh(range(len(feature_importances)), feature_importances, align='center')\n",
    "plt.yticks(range(len(feature_importances)), feature_names)\n",
    "plt.xlabel('Feature Importance')\n",
    "plt.ylabel('Feature')\n",
    "plt.title('Random Forest Feature Importances')\n",
    "\n",
    "plt.show()"
   ]
  }
 ],
 "metadata": {
  "kernelspec": {
   "display_name": "Python 3",
   "language": "python",
   "name": "python3"
  },
  "language_info": {
   "codemirror_mode": {
    "name": "ipython",
    "version": 3
   },
   "file_extension": ".py",
   "mimetype": "text/x-python",
   "name": "python",
   "nbconvert_exporter": "python",
   "pygments_lexer": "ipython3",
   "version": "3.9.7"
  }
 },
 "nbformat": 4,
 "nbformat_minor": 2
}
